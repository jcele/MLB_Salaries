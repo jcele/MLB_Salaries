{
 "cells": [
  {
   "cell_type": "markdown",
   "metadata": {},
   "source": [
    "### This script contains the following:\n",
    "\n",
    "#### 1. Importing Libraries\n",
    "#### 2. Importing Data\n",
    "#### 3. Data Wrangling and Cleaning\n",
    "#### 4. Exploring Data Visually\n",
    "#### 5. Hypotheses\n",
    "#### 6. Reshaping Variables into NumPy Arrays\n",
    "#### 7. Splitting Data into 2 Sets\n",
    "#### 8. Regression Analysis\n",
    "- 9. Regression Plots\n",
    "\n",
    "#### 10. Model Statistics Interpretation\n",
    "#### 11. Model Performance Statistics\n",
    "#### 12. Compare Predicted and Actual Values\n",
    "#### 13. Thoughts\n",
    "#### Bonus: Performance Improvement After Making Data Set More Recent (2006 - 2016 only)"
   ]
  },
  {
   "cell_type": "markdown",
   "metadata": {},
   "source": [
    "# Importing Libraries"
   ]
  },
  {
   "cell_type": "code",
   "execution_count": 33,
   "metadata": {},
   "outputs": [],
   "source": [
    "import pandas as pd\n",
    "import numpy as np\n",
    "import seaborn as sns\n",
    "import matplotlib\n",
    "import matplotlib.pyplot as plt\n",
    "import os\n",
    "import sklearn\n",
    "from sklearn.model_selection import train_test_split\n",
    "from sklearn.linear_model import LinearRegression\n",
    "from sklearn.metrics import mean_squared_error, r2_score"
   ]
  },
  {
   "cell_type": "code",
   "execution_count": 34,
   "metadata": {},
   "outputs": [],
   "source": [
    "# This option ensures that the graphs you create are displayed within the notebook without the need to \"call\" them specifically.\n",
    "\n",
    "%matplotlib inline"
   ]
  },
  {
   "cell_type": "markdown",
   "metadata": {},
   "source": [
    "# 2) Importing Data"
   ]
  },
  {
   "cell_type": "code",
   "execution_count": 35,
   "metadata": {},
   "outputs": [],
   "source": [
    "# Creating a path variable\n",
    "path = r'C:\\Users\\Aaron\\CareerFoundry\\Achievement 6'"
   ]
  },
  {
   "cell_type": "code",
   "execution_count": 36,
   "metadata": {},
   "outputs": [],
   "source": [
    "# Importing most recent dataset\n",
    "df = pd.read_csv(os.path.join(path, '02 Data', 'Prepared Data', 'salaries_UPDATED.csv'), index_col = False)"
   ]
  },
  {
   "cell_type": "code",
   "execution_count": 37,
   "metadata": {
    "scrolled": true
   },
   "outputs": [
    {
     "data": {
      "text/html": [
       "<div>\n",
       "<style scoped>\n",
       "    .dataframe tbody tr th:only-of-type {\n",
       "        vertical-align: middle;\n",
       "    }\n",
       "\n",
       "    .dataframe tbody tr th {\n",
       "        vertical-align: top;\n",
       "    }\n",
       "\n",
       "    .dataframe thead th {\n",
       "        text-align: right;\n",
       "    }\n",
       "</style>\n",
       "<table border=\"1\" class=\"dataframe\">\n",
       "  <thead>\n",
       "    <tr style=\"text-align: right;\">\n",
       "      <th></th>\n",
       "      <th>Unnamed: 0</th>\n",
       "      <th>salary</th>\n",
       "      <th>name</th>\n",
       "      <th>total_value</th>\n",
       "      <th>pos</th>\n",
       "      <th>length</th>\n",
       "      <th>years</th>\n",
       "      <th>avg_annual</th>\n",
       "      <th>team</th>\n",
       "      <th>city</th>\n",
       "      <th>state</th>\n",
       "      <th>country</th>\n",
       "    </tr>\n",
       "  </thead>\n",
       "  <tbody>\n",
       "    <tr>\n",
       "      <th>0</th>\n",
       "      <td>0</td>\n",
       "      <td>6500000</td>\n",
       "      <td>Giancarlo Stanton</td>\n",
       "      <td>325000000</td>\n",
       "      <td>RF</td>\n",
       "      <td>13</td>\n",
       "      <td>2015</td>\n",
       "      <td>25000000</td>\n",
       "      <td>MIA</td>\n",
       "      <td>Miami</td>\n",
       "      <td>Florida</td>\n",
       "      <td>USA</td>\n",
       "    </tr>\n",
       "    <tr>\n",
       "      <th>1</th>\n",
       "      <td>1</td>\n",
       "      <td>21943026</td>\n",
       "      <td>Miguel Cabrera</td>\n",
       "      <td>292000000</td>\n",
       "      <td>1B</td>\n",
       "      <td>10</td>\n",
       "      <td>2014</td>\n",
       "      <td>29200000</td>\n",
       "      <td>DET</td>\n",
       "      <td>Detroit</td>\n",
       "      <td>Michigan</td>\n",
       "      <td>USA</td>\n",
       "    </tr>\n",
       "    <tr>\n",
       "      <th>2</th>\n",
       "      <td>2</td>\n",
       "      <td>22000000</td>\n",
       "      <td>Miguel Cabrera</td>\n",
       "      <td>292000000</td>\n",
       "      <td>1B</td>\n",
       "      <td>10</td>\n",
       "      <td>2014</td>\n",
       "      <td>29200000</td>\n",
       "      <td>DET</td>\n",
       "      <td>Detroit</td>\n",
       "      <td>Michigan</td>\n",
       "      <td>USA</td>\n",
       "    </tr>\n",
       "    <tr>\n",
       "      <th>3</th>\n",
       "      <td>3</td>\n",
       "      <td>28000000</td>\n",
       "      <td>Alex Rodriguez</td>\n",
       "      <td>275000000</td>\n",
       "      <td>DH</td>\n",
       "      <td>10</td>\n",
       "      <td>2008</td>\n",
       "      <td>27500000</td>\n",
       "      <td>NYY</td>\n",
       "      <td>Bronx</td>\n",
       "      <td>New York</td>\n",
       "      <td>USA</td>\n",
       "    </tr>\n",
       "    <tr>\n",
       "      <th>4</th>\n",
       "      <td>4</td>\n",
       "      <td>33000000</td>\n",
       "      <td>Alex Rodriguez</td>\n",
       "      <td>275000000</td>\n",
       "      <td>DH</td>\n",
       "      <td>10</td>\n",
       "      <td>2008</td>\n",
       "      <td>27500000</td>\n",
       "      <td>NYY</td>\n",
       "      <td>Bronx</td>\n",
       "      <td>New York</td>\n",
       "      <td>USA</td>\n",
       "    </tr>\n",
       "  </tbody>\n",
       "</table>\n",
       "</div>"
      ],
      "text/plain": [
       "   Unnamed: 0    salary               name  total_value pos  length  years  \\\n",
       "0           0   6500000  Giancarlo Stanton    325000000  RF      13   2015   \n",
       "1           1  21943026     Miguel Cabrera    292000000  1B      10   2014   \n",
       "2           2  22000000     Miguel Cabrera    292000000  1B      10   2014   \n",
       "3           3  28000000     Alex Rodriguez    275000000  DH      10   2008   \n",
       "4           4  33000000     Alex Rodriguez    275000000  DH      10   2008   \n",
       "\n",
       "   avg_annual team     city     state country  \n",
       "0    25000000  MIA    Miami   Florida     USA  \n",
       "1    29200000  DET  Detroit  Michigan     USA  \n",
       "2    29200000  DET  Detroit  Michigan     USA  \n",
       "3    27500000  NYY    Bronx  New York     USA  \n",
       "4    27500000  NYY    Bronx  New York     USA  "
      ]
     },
     "execution_count": 37,
     "metadata": {},
     "output_type": "execute_result"
    }
   ],
   "source": [
    "# Checking the dataset\n",
    "df.head()"
   ]
  },
  {
   "cell_type": "code",
   "execution_count": 38,
   "metadata": {
    "scrolled": true
   },
   "outputs": [
    {
     "data": {
      "text/plain": [
       "(22705, 12)"
      ]
     },
     "execution_count": 38,
     "metadata": {},
     "output_type": "execute_result"
    }
   ],
   "source": [
    "# Understanding our data\n",
    "df.shape"
   ]
  },
  {
   "cell_type": "code",
   "execution_count": 39,
   "metadata": {
    "scrolled": true
   },
   "outputs": [
    {
     "name": "stdout",
     "output_type": "stream",
     "text": [
      "<class 'pandas.core.frame.DataFrame'>\n",
      "RangeIndex: 22705 entries, 0 to 22704\n",
      "Data columns (total 12 columns):\n",
      " #   Column       Non-Null Count  Dtype \n",
      "---  ------       --------------  ----- \n",
      " 0   Unnamed: 0   22705 non-null  int64 \n",
      " 1   salary       22705 non-null  int64 \n",
      " 2   name         22705 non-null  object\n",
      " 3   total_value  22705 non-null  int64 \n",
      " 4   pos          22705 non-null  object\n",
      " 5   length       22705 non-null  int64 \n",
      " 6   years        22705 non-null  int64 \n",
      " 7   avg_annual   22705 non-null  int64 \n",
      " 8   team         22705 non-null  object\n",
      " 9   city         22705 non-null  object\n",
      " 10  state        22705 non-null  object\n",
      " 11  country      22705 non-null  object\n",
      "dtypes: int64(6), object(6)\n",
      "memory usage: 2.1+ MB\n"
     ]
    }
   ],
   "source": [
    "df.info()"
   ]
  },
  {
   "cell_type": "markdown",
   "metadata": {},
   "source": [
    "# 3) Data Wrangling"
   ]
  },
  {
   "cell_type": "markdown",
   "metadata": {},
   "source": [
    "#### Removing 'Unnamed: 0' Column"
   ]
  },
  {
   "cell_type": "code",
   "execution_count": 40,
   "metadata": {},
   "outputs": [],
   "source": [
    "df = df.drop(columns = 'Unnamed: 0')"
   ]
  },
  {
   "cell_type": "code",
   "execution_count": 41,
   "metadata": {},
   "outputs": [
    {
     "data": {
      "text/html": [
       "<div>\n",
       "<style scoped>\n",
       "    .dataframe tbody tr th:only-of-type {\n",
       "        vertical-align: middle;\n",
       "    }\n",
       "\n",
       "    .dataframe tbody tr th {\n",
       "        vertical-align: top;\n",
       "    }\n",
       "\n",
       "    .dataframe thead th {\n",
       "        text-align: right;\n",
       "    }\n",
       "</style>\n",
       "<table border=\"1\" class=\"dataframe\">\n",
       "  <thead>\n",
       "    <tr style=\"text-align: right;\">\n",
       "      <th></th>\n",
       "      <th>salary</th>\n",
       "      <th>name</th>\n",
       "      <th>total_value</th>\n",
       "      <th>pos</th>\n",
       "      <th>length</th>\n",
       "      <th>years</th>\n",
       "      <th>avg_annual</th>\n",
       "      <th>team</th>\n",
       "      <th>city</th>\n",
       "      <th>state</th>\n",
       "      <th>country</th>\n",
       "    </tr>\n",
       "  </thead>\n",
       "  <tbody>\n",
       "    <tr>\n",
       "      <th>0</th>\n",
       "      <td>6500000</td>\n",
       "      <td>Giancarlo Stanton</td>\n",
       "      <td>325000000</td>\n",
       "      <td>RF</td>\n",
       "      <td>13</td>\n",
       "      <td>2015</td>\n",
       "      <td>25000000</td>\n",
       "      <td>MIA</td>\n",
       "      <td>Miami</td>\n",
       "      <td>Florida</td>\n",
       "      <td>USA</td>\n",
       "    </tr>\n",
       "    <tr>\n",
       "      <th>1</th>\n",
       "      <td>21943026</td>\n",
       "      <td>Miguel Cabrera</td>\n",
       "      <td>292000000</td>\n",
       "      <td>1B</td>\n",
       "      <td>10</td>\n",
       "      <td>2014</td>\n",
       "      <td>29200000</td>\n",
       "      <td>DET</td>\n",
       "      <td>Detroit</td>\n",
       "      <td>Michigan</td>\n",
       "      <td>USA</td>\n",
       "    </tr>\n",
       "    <tr>\n",
       "      <th>2</th>\n",
       "      <td>22000000</td>\n",
       "      <td>Miguel Cabrera</td>\n",
       "      <td>292000000</td>\n",
       "      <td>1B</td>\n",
       "      <td>10</td>\n",
       "      <td>2014</td>\n",
       "      <td>29200000</td>\n",
       "      <td>DET</td>\n",
       "      <td>Detroit</td>\n",
       "      <td>Michigan</td>\n",
       "      <td>USA</td>\n",
       "    </tr>\n",
       "    <tr>\n",
       "      <th>3</th>\n",
       "      <td>28000000</td>\n",
       "      <td>Alex Rodriguez</td>\n",
       "      <td>275000000</td>\n",
       "      <td>DH</td>\n",
       "      <td>10</td>\n",
       "      <td>2008</td>\n",
       "      <td>27500000</td>\n",
       "      <td>NYY</td>\n",
       "      <td>Bronx</td>\n",
       "      <td>New York</td>\n",
       "      <td>USA</td>\n",
       "    </tr>\n",
       "    <tr>\n",
       "      <th>4</th>\n",
       "      <td>33000000</td>\n",
       "      <td>Alex Rodriguez</td>\n",
       "      <td>275000000</td>\n",
       "      <td>DH</td>\n",
       "      <td>10</td>\n",
       "      <td>2008</td>\n",
       "      <td>27500000</td>\n",
       "      <td>NYY</td>\n",
       "      <td>Bronx</td>\n",
       "      <td>New York</td>\n",
       "      <td>USA</td>\n",
       "    </tr>\n",
       "  </tbody>\n",
       "</table>\n",
       "</div>"
      ],
      "text/plain": [
       "     salary               name  total_value pos  length  years  avg_annual  \\\n",
       "0   6500000  Giancarlo Stanton    325000000  RF      13   2015    25000000   \n",
       "1  21943026     Miguel Cabrera    292000000  1B      10   2014    29200000   \n",
       "2  22000000     Miguel Cabrera    292000000  1B      10   2014    29200000   \n",
       "3  28000000     Alex Rodriguez    275000000  DH      10   2008    27500000   \n",
       "4  33000000     Alex Rodriguez    275000000  DH      10   2008    27500000   \n",
       "\n",
       "  team     city     state country  \n",
       "0  MIA    Miami   Florida     USA  \n",
       "1  DET  Detroit  Michigan     USA  \n",
       "2  DET  Detroit  Michigan     USA  \n",
       "3  NYY    Bronx  New York     USA  \n",
       "4  NYY    Bronx  New York     USA  "
      ]
     },
     "execution_count": 41,
     "metadata": {},
     "output_type": "execute_result"
    }
   ],
   "source": [
    "# Checking our work\n",
    "df.head()"
   ]
  },
  {
   "cell_type": "markdown",
   "metadata": {},
   "source": [
    "#### Renaming 'years' to 'year_start'"
   ]
  },
  {
   "cell_type": "code",
   "execution_count": 43,
   "metadata": {},
   "outputs": [],
   "source": [
    "df.rename(columns = {'years':'year_start'}, inplace = True)"
   ]
  },
  {
   "cell_type": "code",
   "execution_count": 44,
   "metadata": {},
   "outputs": [
    {
     "data": {
      "text/html": [
       "<div>\n",
       "<style scoped>\n",
       "    .dataframe tbody tr th:only-of-type {\n",
       "        vertical-align: middle;\n",
       "    }\n",
       "\n",
       "    .dataframe tbody tr th {\n",
       "        vertical-align: top;\n",
       "    }\n",
       "\n",
       "    .dataframe thead th {\n",
       "        text-align: right;\n",
       "    }\n",
       "</style>\n",
       "<table border=\"1\" class=\"dataframe\">\n",
       "  <thead>\n",
       "    <tr style=\"text-align: right;\">\n",
       "      <th></th>\n",
       "      <th>salary</th>\n",
       "      <th>name</th>\n",
       "      <th>total_value</th>\n",
       "      <th>pos</th>\n",
       "      <th>length</th>\n",
       "      <th>year_start</th>\n",
       "      <th>avg_annual</th>\n",
       "      <th>team</th>\n",
       "      <th>city</th>\n",
       "      <th>state</th>\n",
       "      <th>country</th>\n",
       "    </tr>\n",
       "  </thead>\n",
       "  <tbody>\n",
       "    <tr>\n",
       "      <th>0</th>\n",
       "      <td>6500000</td>\n",
       "      <td>Giancarlo Stanton</td>\n",
       "      <td>325000000</td>\n",
       "      <td>RF</td>\n",
       "      <td>13</td>\n",
       "      <td>2015</td>\n",
       "      <td>25000000</td>\n",
       "      <td>MIA</td>\n",
       "      <td>Miami</td>\n",
       "      <td>Florida</td>\n",
       "      <td>USA</td>\n",
       "    </tr>\n",
       "    <tr>\n",
       "      <th>1</th>\n",
       "      <td>21943026</td>\n",
       "      <td>Miguel Cabrera</td>\n",
       "      <td>292000000</td>\n",
       "      <td>1B</td>\n",
       "      <td>10</td>\n",
       "      <td>2014</td>\n",
       "      <td>29200000</td>\n",
       "      <td>DET</td>\n",
       "      <td>Detroit</td>\n",
       "      <td>Michigan</td>\n",
       "      <td>USA</td>\n",
       "    </tr>\n",
       "    <tr>\n",
       "      <th>2</th>\n",
       "      <td>22000000</td>\n",
       "      <td>Miguel Cabrera</td>\n",
       "      <td>292000000</td>\n",
       "      <td>1B</td>\n",
       "      <td>10</td>\n",
       "      <td>2014</td>\n",
       "      <td>29200000</td>\n",
       "      <td>DET</td>\n",
       "      <td>Detroit</td>\n",
       "      <td>Michigan</td>\n",
       "      <td>USA</td>\n",
       "    </tr>\n",
       "    <tr>\n",
       "      <th>3</th>\n",
       "      <td>28000000</td>\n",
       "      <td>Alex Rodriguez</td>\n",
       "      <td>275000000</td>\n",
       "      <td>DH</td>\n",
       "      <td>10</td>\n",
       "      <td>2008</td>\n",
       "      <td>27500000</td>\n",
       "      <td>NYY</td>\n",
       "      <td>Bronx</td>\n",
       "      <td>New York</td>\n",
       "      <td>USA</td>\n",
       "    </tr>\n",
       "    <tr>\n",
       "      <th>4</th>\n",
       "      <td>33000000</td>\n",
       "      <td>Alex Rodriguez</td>\n",
       "      <td>275000000</td>\n",
       "      <td>DH</td>\n",
       "      <td>10</td>\n",
       "      <td>2008</td>\n",
       "      <td>27500000</td>\n",
       "      <td>NYY</td>\n",
       "      <td>Bronx</td>\n",
       "      <td>New York</td>\n",
       "      <td>USA</td>\n",
       "    </tr>\n",
       "  </tbody>\n",
       "</table>\n",
       "</div>"
      ],
      "text/plain": [
       "     salary               name  total_value pos  length  year_start  \\\n",
       "0   6500000  Giancarlo Stanton    325000000  RF      13        2015   \n",
       "1  21943026     Miguel Cabrera    292000000  1B      10        2014   \n",
       "2  22000000     Miguel Cabrera    292000000  1B      10        2014   \n",
       "3  28000000     Alex Rodriguez    275000000  DH      10        2008   \n",
       "4  33000000     Alex Rodriguez    275000000  DH      10        2008   \n",
       "\n",
       "   avg_annual team     city     state country  \n",
       "0    25000000  MIA    Miami   Florida     USA  \n",
       "1    29200000  DET  Detroit  Michigan     USA  \n",
       "2    29200000  DET  Detroit  Michigan     USA  \n",
       "3    27500000  NYY    Bronx  New York     USA  \n",
       "4    27500000  NYY    Bronx  New York     USA  "
      ]
     },
     "execution_count": 44,
     "metadata": {},
     "output_type": "execute_result"
    }
   ],
   "source": [
    "# Checking our work\n",
    "df.head()"
   ]
  },
  {
   "cell_type": "markdown",
   "metadata": {},
   "source": [
    "# 3) Data Cleaning"
   ]
  },
  {
   "cell_type": "markdown",
   "metadata": {},
   "source": [
    "#### Check for Missing Values"
   ]
  },
  {
   "cell_type": "code",
   "execution_count": 45,
   "metadata": {},
   "outputs": [
    {
     "data": {
      "text/plain": [
       "salary         0\n",
       "name           0\n",
       "total_value    0\n",
       "pos            0\n",
       "length         0\n",
       "year_start     0\n",
       "avg_annual     0\n",
       "team           0\n",
       "city           0\n",
       "state          0\n",
       "country        0\n",
       "dtype: int64"
      ]
     },
     "execution_count": 45,
     "metadata": {},
     "output_type": "execute_result"
    }
   ],
   "source": [
    "df.isnull().sum()"
   ]
  },
  {
   "cell_type": "markdown",
   "metadata": {},
   "source": [
    "#### Duplicates Check"
   ]
  },
  {
   "cell_type": "code",
   "execution_count": 46,
   "metadata": {},
   "outputs": [],
   "source": [
    "dups = df.duplicated()"
   ]
  },
  {
   "cell_type": "code",
   "execution_count": 47,
   "metadata": {},
   "outputs": [
    {
     "data": {
      "text/plain": [
       "(22705,)"
      ]
     },
     "execution_count": 47,
     "metadata": {},
     "output_type": "execute_result"
    }
   ],
   "source": [
    "dups.shape"
   ]
  },
  {
   "cell_type": "markdown",
   "metadata": {},
   "source": [
    "No duplicates!"
   ]
  },
  {
   "cell_type": "markdown",
   "metadata": {},
   "source": [
    "# 4) Explore Data Visually"
   ]
  },
  {
   "cell_type": "markdown",
   "metadata": {},
   "source": [
    "### 1. Length vs. Avg. Annual"
   ]
  },
  {
   "cell_type": "code",
   "execution_count": 48,
   "metadata": {
    "scrolled": true
   },
   "outputs": [
    {
     "data": {
      "image/png": "[encoded data removed]",
      "text/plain": [
       "<Figure size 432x288 with 1 Axes>"
      ]
     },
     "metadata": {
      "needs_background": "light"
     },
     "output_type": "display_data"
    }
   ],
   "source": [
    "# Create a scatterplot using matplotlib for another look at how the chosen variables plot against each other.\n",
    "\n",
    "df.plot(x = 'length', y='avg_annual',style='o') # The style option creates a scatterplot; without it, we only have lines.\n",
    "plt.title('Length of Contract vs. Annual Avg.')  \n",
    "plt.xlabel('length of contract')  \n",
    "plt.ylabel('Annual Avg.')  \n",
    "plt.show()"
   ]
  },
  {
   "cell_type": "markdown",
   "metadata": {},
   "source": [
    "### 2. Length vs. Total Value"
   ]
  },
  {
   "cell_type": "code",
   "execution_count": 62,
   "metadata": {},
   "outputs": [
    {
     "data": {
      "image/png": "[encoded data removed]",
      "text/plain": [
       "<Figure size 432x288 with 1 Axes>"
      ]
     },
     "metadata": {
      "needs_background": "light"
     },
     "output_type": "display_data"
    }
   ],
   "source": [
    "# Create a scatterplot using matplotlib for another look at how the chosen variables plot against each other.\n",
    "\n",
    "df.plot(x = 'length', y='total_value',style='o') # The style option creates a scatterplot; without it, we only have lines.\n",
    "plt.title('Length of Contract vs. Total Value of Contract')  \n",
    "plt.xlabel('Length of Contract')  \n",
    "plt.ylabel('Total Value of Contract')  \n",
    "plt.show()"
   ]
  },
  {
   "cell_type": "markdown",
   "metadata": {},
   "source": [
    "# 5) Hypotheses"
   ]
  },
  {
   "cell_type": "markdown",
   "metadata": {},
   "source": [
    "#### Our three  hypotheses listed from an earlier task:\n",
    "1. If a player is a pitcher, then they're more likely to receive larger contracts.\n",
    "2. If a player wants to get paid more in total, then they should opt for a long term contract.\n",
    "3. If a player wants to get paid more upfront, then they should opt for a short term contract."
   ]
  },
  {
   "cell_type": "markdown",
   "metadata": {},
   "source": [
    "# 6) Reshape the Variables into NumPy Arrays"
   ]
  },
  {
   "cell_type": "markdown",
   "metadata": {},
   "source": [
    "### 1. Length vs. Avg. Annual"
   ]
  },
  {
   "cell_type": "code",
   "execution_count": 63,
   "metadata": {},
   "outputs": [],
   "source": [
    "# Reshape the variables into NumPy arrays and put them into separate objects.\n",
    "\n",
    "X1 = df['length'].values.reshape(-1,1)\n",
    "y1 = df['avg_annual'].values.reshape(-1,1)"
   ]
  },
  {
   "cell_type": "code",
   "execution_count": 64,
   "metadata": {
    "scrolled": true
   },
   "outputs": [
    {
     "data": {
      "text/plain": [
       "array([[13],\n",
       "       [10],\n",
       "       [10],\n",
       "       ...,\n",
       "       [ 1],\n",
       "       [ 1],\n",
       "       [ 1]], dtype=int64)"
      ]
     },
     "execution_count": 64,
     "metadata": {},
     "output_type": "execute_result"
    }
   ],
   "source": [
    "# Checking our work\n",
    "X1"
   ]
  },
  {
   "cell_type": "code",
   "execution_count": 65,
   "metadata": {},
   "outputs": [
    {
     "data": {
      "text/plain": [
       "array([[25000000],\n",
       "       [29200000],\n",
       "       [29200000],\n",
       "       ...,\n",
       "       [   62500],\n",
       "       [   62500],\n",
       "       [   62500]], dtype=int64)"
      ]
     },
     "execution_count": 65,
     "metadata": {},
     "output_type": "execute_result"
    }
   ],
   "source": [
    "# Checking our work\n",
    "y1"
   ]
  },
  {
   "cell_type": "markdown",
   "metadata": {},
   "source": [
    "### 3. Length vs. Total Value"
   ]
  },
  {
   "cell_type": "code",
   "execution_count": 90,
   "metadata": {},
   "outputs": [],
   "source": [
    "# Reshape the variables into NumPy arrays and put them into separate objects.\n",
    "\n",
    "X2 = df['length'].values.reshape(-1,1)\n",
    "y2 = df['total_value'].values.reshape(-1,1)"
   ]
  },
  {
   "cell_type": "code",
   "execution_count": 91,
   "metadata": {},
   "outputs": [
    {
     "data": {
      "text/plain": [
       "array([[13],\n",
       "       [10],\n",
       "       [10],\n",
       "       ...,\n",
       "       [ 1],\n",
       "       [ 1],\n",
       "       [ 1]], dtype=int64)"
      ]
     },
     "execution_count": 91,
     "metadata": {},
     "output_type": "execute_result"
    }
   ],
   "source": [
    "# Check our work\n",
    "X2"
   ]
  },
  {
   "cell_type": "code",
   "execution_count": 92,
   "metadata": {},
   "outputs": [
    {
     "data": {
      "text/plain": [
       "array([[325000000],\n",
       "       [292000000],\n",
       "       [292000000],\n",
       "       ...,\n",
       "       [    62500],\n",
       "       [    62500],\n",
       "       [    62500]], dtype=int64)"
      ]
     },
     "execution_count": 92,
     "metadata": {},
     "output_type": "execute_result"
    }
   ],
   "source": [
    "# Check our work\n",
    "y2"
   ]
  },
  {
   "cell_type": "markdown",
   "metadata": {},
   "source": [
    "# 7) Split the Data into 2 Sets:  training and test"
   ]
  },
  {
   "cell_type": "markdown",
   "metadata": {},
   "source": [
    "### 1. Length vs. Avg. Annual"
   ]
  },
  {
   "cell_type": "code",
   "execution_count": 70,
   "metadata": {},
   "outputs": [],
   "source": [
    "# Split data into a training set and a test set.\n",
    "\n",
    "X1_train, X1_test, y1_train, y1_test = train_test_split(X1, y1, test_size=0.3, random_state=0)"
   ]
  },
  {
   "cell_type": "markdown",
   "metadata": {},
   "source": [
    "### 2. Length vs. Total Value"
   ]
  },
  {
   "cell_type": "code",
   "execution_count": 93,
   "metadata": {},
   "outputs": [],
   "source": [
    "# Split data into a training set and a test set.\n",
    "\n",
    "X2_train, X2_test, y2_train, y2_test = train_test_split(X2, y2, test_size=0.3, random_state=0)"
   ]
  },
  {
   "cell_type": "markdown",
   "metadata": {},
   "source": [
    "# 8) Regression Analysis"
   ]
  },
  {
   "cell_type": "markdown",
   "metadata": {},
   "source": [
    "### 1. Length vs. Avg. Annual"
   ]
  },
  {
   "cell_type": "code",
   "execution_count": 76,
   "metadata": {},
   "outputs": [],
   "source": [
    "# Create a regression object.\n",
    "\n",
    "regression_1 = LinearRegression()  # This is the regression object, which will be fit onto the training set."
   ]
  },
  {
   "cell_type": "code",
   "execution_count": 77,
   "metadata": {},
   "outputs": [
    {
     "data": {
      "text/plain": [
       "LinearRegression()"
      ]
     },
     "execution_count": 77,
     "metadata": {},
     "output_type": "execute_result"
    }
   ],
   "source": [
    "# Fit the regression object onto the training set.\n",
    "\n",
    "regression_1.fit(X1_train, y1_train)"
   ]
  },
  {
   "cell_type": "code",
   "execution_count": 78,
   "metadata": {},
   "outputs": [],
   "source": [
    "# Predict the values of y1 using X1.\n",
    "\n",
    "y1_predicted = regression.predict(X1_test)"
   ]
  },
  {
   "cell_type": "code",
   "execution_count": 79,
   "metadata": {
    "scrolled": true
   },
   "outputs": [
    {
     "data": {
      "image/png": "[encoded data removed]",
      "text/plain": [
       "<Figure size 432x288 with 1 Axes>"
      ]
     },
     "metadata": {
      "needs_background": "light"
     },
     "output_type": "display_data"
    }
   ],
   "source": [
    "# Create a plot that shows the regression line from the model on the test set.\n",
    "\n",
    "plot_test = plt\n",
    "plot_test.scatter(X1_test, y1_test, color='gray', s = 15)\n",
    "plot_test.plot(X1_test, y1_predicted, color='red', linewidth =3)\n",
    "plot_test.title('Length of Contract vs. Annual Avg. (Test Set)')\n",
    "plot_test.xlabel('Length')\n",
    "plot_test.ylabel('Avg. Annual')\n",
    "plot_test.show()"
   ]
  },
  {
   "cell_type": "markdown",
   "metadata": {},
   "source": [
    "### 10) Interpretation of Line and its Fit on the Data"
   ]
  },
  {
   "cell_type": "markdown",
   "metadata": {},
   "source": [
    "This model doesn't do a great job of explaining the relationship between the Length variable and the Annual Average variable. The data points are scattered all over the chart with barely any landing right on the line."
   ]
  },
  {
   "cell_type": "markdown",
   "metadata": {},
   "source": [
    "### 2. Length vs. Total Value"
   ]
  },
  {
   "cell_type": "code",
   "execution_count": 94,
   "metadata": {},
   "outputs": [],
   "source": [
    "# Create a regression object.\n",
    "\n",
    "regression_2 = LinearRegression()  # This is the regression object, which will be fit onto the training set."
   ]
  },
  {
   "cell_type": "code",
   "execution_count": 95,
   "metadata": {},
   "outputs": [
    {
     "data": {
      "text/plain": [
       "LinearRegression()"
      ]
     },
     "execution_count": 95,
     "metadata": {},
     "output_type": "execute_result"
    }
   ],
   "source": [
    "# Fit the regression object onto the training set.\n",
    "\n",
    "regression_2.fit(X2_train, y2_train)"
   ]
  },
  {
   "cell_type": "code",
   "execution_count": 96,
   "metadata": {},
   "outputs": [],
   "source": [
    "# Predict the values of y1 using X1.\n",
    "\n",
    "y2_predicted = regression.predict(X2_test)"
   ]
  },
  {
   "cell_type": "code",
   "execution_count": 97,
   "metadata": {},
   "outputs": [
    {
     "data": {
      "image/png": "[encoded data removed]",
      "text/plain": [
       "<Figure size 432x288 with 1 Axes>"
      ]
     },
     "metadata": {
      "needs_background": "light"
     },
     "output_type": "display_data"
    }
   ],
   "source": [
    "# Create a plot that shows the regression line from the model on the test set.\n",
    "\n",
    "plot_test = plt\n",
    "plot_test.scatter(X2_test, y2_test, color='gray', s = 15)\n",
    "plot_test.plot(X2_test, y2_predicted, color='red', linewidth =3)\n",
    "plot_test.title('Length of Contract vs. Total Value (Test Set)')\n",
    "plot_test.xlabel('Length')\n",
    "plot_test.ylabel('Total Value')\n",
    "plot_test.show()"
   ]
  },
  {
   "cell_type": "markdown",
   "metadata": {},
   "source": [
    "### 10) Interpretation of Line and its Fit on the Data"
   ]
  },
  {
   "cell_type": "markdown",
   "metadata": {},
   "source": [
    "Although the data seems to be moving from bottom left to top right direction, it's interesting to see that the line of best fit doesn't have that high of a slope."
   ]
  },
  {
   "cell_type": "markdown",
   "metadata": {},
   "source": [
    "# 11) Model Performance Statistics"
   ]
  },
  {
   "cell_type": "markdown",
   "metadata": {},
   "source": [
    "### 1. Length vs. Avg. Annual"
   ]
  },
  {
   "cell_type": "code",
   "execution_count": 84,
   "metadata": {},
   "outputs": [],
   "source": [
    "# Create objects that contain the model summary statistics.\n",
    "\n",
    "rmse_1 = mean_squared_error(y1_test, y1_predicted) # This is the mean squared error\n",
    "r2_1 = r2_score(y1_test, y1_predicted) # This is the R2 score. "
   ]
  },
  {
   "cell_type": "code",
   "execution_count": 85,
   "metadata": {
    "scrolled": true
   },
   "outputs": [
    {
     "name": "stdout",
     "output_type": "stream",
     "text": [
      "Slope: [[2182658.25624669]]\n",
      "Mean squared error:  9342287663562.54\n",
      "R2 score:  0.2242832482073257\n"
     ]
    }
   ],
   "source": [
    "# Print the model summary statistics. This is where you evaluate the performance of the model.\n",
    "\n",
    "print('Slope:' ,regression_1.coef_)\n",
    "print('Mean squared error: ', rmse_1)\n",
    "print('R2 score: ', r2_1)"
   ]
  },
  {
   "cell_type": "markdown",
   "metadata": {},
   "source": [
    "### 2. Length vs. Total Value"
   ]
  },
  {
   "cell_type": "code",
   "execution_count": 98,
   "metadata": {},
   "outputs": [],
   "source": [
    "# Create objects that contain the model summary statistics.\n",
    "\n",
    "rmse_2 = mean_squared_error(y2_test, y2_predicted) # This is the mean squared error\n",
    "r2_2 = r2_score(y2_test, y2_predicted) # This is the R2 score. "
   ]
  },
  {
   "cell_type": "code",
   "execution_count": 99,
   "metadata": {},
   "outputs": [
    {
     "name": "stdout",
     "output_type": "stream",
     "text": [
      "Slope: [[16418005.62841625]]\n",
      "Mean squared error:  165752041371069.34\n",
      "R2 score:  0.1717575855960657\n"
     ]
    }
   ],
   "source": [
    "# Print the model summary statistics. This is where you evaluate the performance of the model.\n",
    "\n",
    "print('Slope:' ,regression_2.coef_)\n",
    "print('Mean squared error: ', rmse_2)\n",
    "print('R2 score: ', r2_2)"
   ]
  },
  {
   "cell_type": "markdown",
   "metadata": {},
   "source": [
    "# 12) Compare Predicted and Actual Values"
   ]
  },
  {
   "cell_type": "markdown",
   "metadata": {},
   "source": [
    "### 1. Length vs. Avg. Annual"
   ]
  },
  {
   "cell_type": "code",
   "execution_count": 86,
   "metadata": {},
   "outputs": [
    {
     "data": {
      "text/plain": [
       "array([[1914031.5230133],\n",
       "       [1914031.5230133],\n",
       "       [1914031.5230133],\n",
       "       ...,\n",
       "       [1914031.5230133],\n",
       "       [1914031.5230133],\n",
       "       [1914031.5230133]])"
      ]
     },
     "execution_count": 86,
     "metadata": {},
     "output_type": "execute_result"
    }
   ],
   "source": [
    "y1_predicted"
   ]
  },
  {
   "cell_type": "code",
   "execution_count": 87,
   "metadata": {
    "scrolled": true
   },
   "outputs": [
    {
     "data": {
      "text/html": [
       "<div>\n",
       "<style scoped>\n",
       "    .dataframe tbody tr th:only-of-type {\n",
       "        vertical-align: middle;\n",
       "    }\n",
       "\n",
       "    .dataframe tbody tr th {\n",
       "        vertical-align: top;\n",
       "    }\n",
       "\n",
       "    .dataframe thead th {\n",
       "        text-align: right;\n",
       "    }\n",
       "</style>\n",
       "<table border=\"1\" class=\"dataframe\">\n",
       "  <thead>\n",
       "    <tr style=\"text-align: right;\">\n",
       "      <th></th>\n",
       "      <th>Actual</th>\n",
       "      <th>Predicted</th>\n",
       "    </tr>\n",
       "  </thead>\n",
       "  <tbody>\n",
       "    <tr>\n",
       "      <th>0</th>\n",
       "      <td>1325000</td>\n",
       "      <td>1.914032e+06</td>\n",
       "    </tr>\n",
       "    <tr>\n",
       "      <th>1</th>\n",
       "      <td>4920840</td>\n",
       "      <td>1.914032e+06</td>\n",
       "    </tr>\n",
       "    <tr>\n",
       "      <th>2</th>\n",
       "      <td>405000</td>\n",
       "      <td>1.914032e+06</td>\n",
       "    </tr>\n",
       "    <tr>\n",
       "      <th>3</th>\n",
       "      <td>215000</td>\n",
       "      <td>1.914032e+06</td>\n",
       "    </tr>\n",
       "    <tr>\n",
       "      <th>4</th>\n",
       "      <td>170000</td>\n",
       "      <td>1.914032e+06</td>\n",
       "    </tr>\n",
       "    <tr>\n",
       "      <th>5</th>\n",
       "      <td>1250000</td>\n",
       "      <td>1.914032e+06</td>\n",
       "    </tr>\n",
       "    <tr>\n",
       "      <th>6</th>\n",
       "      <td>6625000</td>\n",
       "      <td>1.914032e+06</td>\n",
       "    </tr>\n",
       "    <tr>\n",
       "      <th>7</th>\n",
       "      <td>6750000</td>\n",
       "      <td>8.462006e+06</td>\n",
       "    </tr>\n",
       "    <tr>\n",
       "      <th>8</th>\n",
       "      <td>322500</td>\n",
       "      <td>1.914032e+06</td>\n",
       "    </tr>\n",
       "    <tr>\n",
       "      <th>9</th>\n",
       "      <td>3166667</td>\n",
       "      <td>1.914032e+06</td>\n",
       "    </tr>\n",
       "    <tr>\n",
       "      <th>10</th>\n",
       "      <td>510500</td>\n",
       "      <td>1.914032e+06</td>\n",
       "    </tr>\n",
       "    <tr>\n",
       "      <th>11</th>\n",
       "      <td>1150000</td>\n",
       "      <td>1.914032e+06</td>\n",
       "    </tr>\n",
       "    <tr>\n",
       "      <th>12</th>\n",
       "      <td>6350000</td>\n",
       "      <td>1.914032e+06</td>\n",
       "    </tr>\n",
       "    <tr>\n",
       "      <th>13</th>\n",
       "      <td>3325000</td>\n",
       "      <td>1.914032e+06</td>\n",
       "    </tr>\n",
       "    <tr>\n",
       "      <th>14</th>\n",
       "      <td>1750000</td>\n",
       "      <td>1.914032e+06</td>\n",
       "    </tr>\n",
       "    <tr>\n",
       "      <th>15</th>\n",
       "      <td>2000000</td>\n",
       "      <td>1.914032e+06</td>\n",
       "    </tr>\n",
       "    <tr>\n",
       "      <th>16</th>\n",
       "      <td>250000</td>\n",
       "      <td>1.914032e+06</td>\n",
       "    </tr>\n",
       "    <tr>\n",
       "      <th>17</th>\n",
       "      <td>510000</td>\n",
       "      <td>1.914032e+06</td>\n",
       "    </tr>\n",
       "    <tr>\n",
       "      <th>18</th>\n",
       "      <td>4450000</td>\n",
       "      <td>4.096690e+06</td>\n",
       "    </tr>\n",
       "    <tr>\n",
       "      <th>19</th>\n",
       "      <td>2500000</td>\n",
       "      <td>1.914032e+06</td>\n",
       "    </tr>\n",
       "    <tr>\n",
       "      <th>20</th>\n",
       "      <td>425000</td>\n",
       "      <td>1.914032e+06</td>\n",
       "    </tr>\n",
       "    <tr>\n",
       "      <th>21</th>\n",
       "      <td>850000</td>\n",
       "      <td>1.914032e+06</td>\n",
       "    </tr>\n",
       "    <tr>\n",
       "      <th>22</th>\n",
       "      <td>1000000</td>\n",
       "      <td>1.914032e+06</td>\n",
       "    </tr>\n",
       "    <tr>\n",
       "      <th>23</th>\n",
       "      <td>3166667</td>\n",
       "      <td>1.914032e+06</td>\n",
       "    </tr>\n",
       "    <tr>\n",
       "      <th>24</th>\n",
       "      <td>400000</td>\n",
       "      <td>1.914032e+06</td>\n",
       "    </tr>\n",
       "    <tr>\n",
       "      <th>25</th>\n",
       "      <td>120000</td>\n",
       "      <td>1.914032e+06</td>\n",
       "    </tr>\n",
       "    <tr>\n",
       "      <th>26</th>\n",
       "      <td>172500</td>\n",
       "      <td>1.914032e+06</td>\n",
       "    </tr>\n",
       "    <tr>\n",
       "      <th>27</th>\n",
       "      <td>392000</td>\n",
       "      <td>1.914032e+06</td>\n",
       "    </tr>\n",
       "    <tr>\n",
       "      <th>28</th>\n",
       "      <td>300000</td>\n",
       "      <td>1.914032e+06</td>\n",
       "    </tr>\n",
       "    <tr>\n",
       "      <th>29</th>\n",
       "      <td>390000</td>\n",
       "      <td>1.914032e+06</td>\n",
       "    </tr>\n",
       "  </tbody>\n",
       "</table>\n",
       "</div>"
      ],
      "text/plain": [
       "     Actual     Predicted\n",
       "0   1325000  1.914032e+06\n",
       "1   4920840  1.914032e+06\n",
       "2    405000  1.914032e+06\n",
       "3    215000  1.914032e+06\n",
       "4    170000  1.914032e+06\n",
       "5   1250000  1.914032e+06\n",
       "6   6625000  1.914032e+06\n",
       "7   6750000  8.462006e+06\n",
       "8    322500  1.914032e+06\n",
       "9   3166667  1.914032e+06\n",
       "10   510500  1.914032e+06\n",
       "11  1150000  1.914032e+06\n",
       "12  6350000  1.914032e+06\n",
       "13  3325000  1.914032e+06\n",
       "14  1750000  1.914032e+06\n",
       "15  2000000  1.914032e+06\n",
       "16   250000  1.914032e+06\n",
       "17   510000  1.914032e+06\n",
       "18  4450000  4.096690e+06\n",
       "19  2500000  1.914032e+06\n",
       "20   425000  1.914032e+06\n",
       "21   850000  1.914032e+06\n",
       "22  1000000  1.914032e+06\n",
       "23  3166667  1.914032e+06\n",
       "24   400000  1.914032e+06\n",
       "25   120000  1.914032e+06\n",
       "26   172500  1.914032e+06\n",
       "27   392000  1.914032e+06\n",
       "28   300000  1.914032e+06\n",
       "29   390000  1.914032e+06"
      ]
     },
     "execution_count": 87,
     "metadata": {},
     "output_type": "execute_result"
    }
   ],
   "source": [
    "# Create a dataframe comparing the actual and predicted values of y1.\n",
    "\n",
    "data_1 = pd.DataFrame({'Actual': y1_test.flatten(), 'Predicted': y1_predicted.flatten()})\n",
    "data_1.head(30)"
   ]
  },
  {
   "cell_type": "markdown",
   "metadata": {},
   "source": [
    "### 2. Length vs. Total Value"
   ]
  },
  {
   "cell_type": "code",
   "execution_count": 100,
   "metadata": {},
   "outputs": [
    {
     "data": {
      "text/plain": [
       "array([[1914031.5230133],\n",
       "       [1914031.5230133],\n",
       "       [1914031.5230133],\n",
       "       ...,\n",
       "       [1914031.5230133],\n",
       "       [1914031.5230133],\n",
       "       [1914031.5230133]])"
      ]
     },
     "execution_count": 100,
     "metadata": {},
     "output_type": "execute_result"
    }
   ],
   "source": [
    "y2_predicted"
   ]
  },
  {
   "cell_type": "code",
   "execution_count": 101,
   "metadata": {
    "scrolled": true
   },
   "outputs": [
    {
     "data": {
      "text/html": [
       "<div>\n",
       "<style scoped>\n",
       "    .dataframe tbody tr th:only-of-type {\n",
       "        vertical-align: middle;\n",
       "    }\n",
       "\n",
       "    .dataframe tbody tr th {\n",
       "        vertical-align: top;\n",
       "    }\n",
       "\n",
       "    .dataframe thead th {\n",
       "        text-align: right;\n",
       "    }\n",
       "</style>\n",
       "<table border=\"1\" class=\"dataframe\">\n",
       "  <thead>\n",
       "    <tr style=\"text-align: right;\">\n",
       "      <th></th>\n",
       "      <th>Actual</th>\n",
       "      <th>Predicted</th>\n",
       "    </tr>\n",
       "  </thead>\n",
       "  <tbody>\n",
       "    <tr>\n",
       "      <th>0</th>\n",
       "      <td>1325000</td>\n",
       "      <td>1.914032e+06</td>\n",
       "    </tr>\n",
       "    <tr>\n",
       "      <th>1</th>\n",
       "      <td>4920840</td>\n",
       "      <td>1.914032e+06</td>\n",
       "    </tr>\n",
       "    <tr>\n",
       "      <th>2</th>\n",
       "      <td>405000</td>\n",
       "      <td>1.914032e+06</td>\n",
       "    </tr>\n",
       "    <tr>\n",
       "      <th>3</th>\n",
       "      <td>215000</td>\n",
       "      <td>1.914032e+06</td>\n",
       "    </tr>\n",
       "    <tr>\n",
       "      <th>4</th>\n",
       "      <td>170000</td>\n",
       "      <td>1.914032e+06</td>\n",
       "    </tr>\n",
       "    <tr>\n",
       "      <th>5</th>\n",
       "      <td>1250000</td>\n",
       "      <td>1.914032e+06</td>\n",
       "    </tr>\n",
       "    <tr>\n",
       "      <th>6</th>\n",
       "      <td>6625000</td>\n",
       "      <td>1.914032e+06</td>\n",
       "    </tr>\n",
       "    <tr>\n",
       "      <th>7</th>\n",
       "      <td>27000000</td>\n",
       "      <td>8.462006e+06</td>\n",
       "    </tr>\n",
       "    <tr>\n",
       "      <th>8</th>\n",
       "      <td>322500</td>\n",
       "      <td>1.914032e+06</td>\n",
       "    </tr>\n",
       "    <tr>\n",
       "      <th>9</th>\n",
       "      <td>3166667</td>\n",
       "      <td>1.914032e+06</td>\n",
       "    </tr>\n",
       "    <tr>\n",
       "      <th>10</th>\n",
       "      <td>510500</td>\n",
       "      <td>1.914032e+06</td>\n",
       "    </tr>\n",
       "    <tr>\n",
       "      <th>11</th>\n",
       "      <td>1150000</td>\n",
       "      <td>1.914032e+06</td>\n",
       "    </tr>\n",
       "    <tr>\n",
       "      <th>12</th>\n",
       "      <td>6350000</td>\n",
       "      <td>1.914032e+06</td>\n",
       "    </tr>\n",
       "    <tr>\n",
       "      <th>13</th>\n",
       "      <td>3325000</td>\n",
       "      <td>1.914032e+06</td>\n",
       "    </tr>\n",
       "    <tr>\n",
       "      <th>14</th>\n",
       "      <td>1750000</td>\n",
       "      <td>1.914032e+06</td>\n",
       "    </tr>\n",
       "    <tr>\n",
       "      <th>15</th>\n",
       "      <td>2000000</td>\n",
       "      <td>1.914032e+06</td>\n",
       "    </tr>\n",
       "    <tr>\n",
       "      <th>16</th>\n",
       "      <td>250000</td>\n",
       "      <td>1.914032e+06</td>\n",
       "    </tr>\n",
       "    <tr>\n",
       "      <th>17</th>\n",
       "      <td>510000</td>\n",
       "      <td>1.914032e+06</td>\n",
       "    </tr>\n",
       "    <tr>\n",
       "      <th>18</th>\n",
       "      <td>8900000</td>\n",
       "      <td>4.096690e+06</td>\n",
       "    </tr>\n",
       "    <tr>\n",
       "      <th>19</th>\n",
       "      <td>2500000</td>\n",
       "      <td>1.914032e+06</td>\n",
       "    </tr>\n",
       "    <tr>\n",
       "      <th>20</th>\n",
       "      <td>425000</td>\n",
       "      <td>1.914032e+06</td>\n",
       "    </tr>\n",
       "    <tr>\n",
       "      <th>21</th>\n",
       "      <td>850000</td>\n",
       "      <td>1.914032e+06</td>\n",
       "    </tr>\n",
       "    <tr>\n",
       "      <th>22</th>\n",
       "      <td>1000000</td>\n",
       "      <td>1.914032e+06</td>\n",
       "    </tr>\n",
       "    <tr>\n",
       "      <th>23</th>\n",
       "      <td>3166667</td>\n",
       "      <td>1.914032e+06</td>\n",
       "    </tr>\n",
       "    <tr>\n",
       "      <th>24</th>\n",
       "      <td>400000</td>\n",
       "      <td>1.914032e+06</td>\n",
       "    </tr>\n",
       "    <tr>\n",
       "      <th>25</th>\n",
       "      <td>120000</td>\n",
       "      <td>1.914032e+06</td>\n",
       "    </tr>\n",
       "    <tr>\n",
       "      <th>26</th>\n",
       "      <td>172500</td>\n",
       "      <td>1.914032e+06</td>\n",
       "    </tr>\n",
       "    <tr>\n",
       "      <th>27</th>\n",
       "      <td>392000</td>\n",
       "      <td>1.914032e+06</td>\n",
       "    </tr>\n",
       "    <tr>\n",
       "      <th>28</th>\n",
       "      <td>300000</td>\n",
       "      <td>1.914032e+06</td>\n",
       "    </tr>\n",
       "    <tr>\n",
       "      <th>29</th>\n",
       "      <td>390000</td>\n",
       "      <td>1.914032e+06</td>\n",
       "    </tr>\n",
       "  </tbody>\n",
       "</table>\n",
       "</div>"
      ],
      "text/plain": [
       "      Actual     Predicted\n",
       "0    1325000  1.914032e+06\n",
       "1    4920840  1.914032e+06\n",
       "2     405000  1.914032e+06\n",
       "3     215000  1.914032e+06\n",
       "4     170000  1.914032e+06\n",
       "5    1250000  1.914032e+06\n",
       "6    6625000  1.914032e+06\n",
       "7   27000000  8.462006e+06\n",
       "8     322500  1.914032e+06\n",
       "9    3166667  1.914032e+06\n",
       "10    510500  1.914032e+06\n",
       "11   1150000  1.914032e+06\n",
       "12   6350000  1.914032e+06\n",
       "13   3325000  1.914032e+06\n",
       "14   1750000  1.914032e+06\n",
       "15   2000000  1.914032e+06\n",
       "16    250000  1.914032e+06\n",
       "17    510000  1.914032e+06\n",
       "18   8900000  4.096690e+06\n",
       "19   2500000  1.914032e+06\n",
       "20    425000  1.914032e+06\n",
       "21    850000  1.914032e+06\n",
       "22   1000000  1.914032e+06\n",
       "23   3166667  1.914032e+06\n",
       "24    400000  1.914032e+06\n",
       "25    120000  1.914032e+06\n",
       "26    172500  1.914032e+06\n",
       "27    392000  1.914032e+06\n",
       "28    300000  1.914032e+06\n",
       "29    390000  1.914032e+06"
      ]
     },
     "execution_count": 101,
     "metadata": {},
     "output_type": "execute_result"
    }
   ],
   "source": [
    "# Create a dataframe comparing the actual and predicted values of y1.\n",
    "\n",
    "data_2 = pd.DataFrame({'Actual': y2_test.flatten(), 'Predicted': y2_predicted.flatten()})\n",
    "data_2.head(30)"
   ]
  },
  {
   "cell_type": "markdown",
   "metadata": {},
   "source": [
    "# 13) Thoughts on How Well Models Performed"
   ]
  },
  {
   "cell_type": "markdown",
   "metadata": {},
   "source": [
    "### 1. Length vs. Avg. Annual"
   ]
  },
  {
   "cell_type": "markdown",
   "metadata": {},
   "source": [
    "I believe the model performed very poorly. My initial hypothesis was:\n",
    "   \n",
    "   - If a player wants to get paid more upfront, then they should opt for a short term contract\n",
    "   \n",
    "This was proven wrong because as seen on on the scatter plot, short term contracts were mostly all over that place, with most of them being towards the lower end of the Avg. Annual axis.\n",
    "\n",
    "Also, with an MSE score of 9,342,287,663,562.54, it confirms to us that the regression line is VERY far from the data points, which also means it's not very accurate.\n",
    "\n",
    "Lastly, an R2 score of 0.22 tells us that there isn't much variance between the independent variable (Length) and the dependent variable (Avg. Annual)."
   ]
  },
  {
   "cell_type": "markdown",
   "metadata": {},
   "source": [
    "### 2. Length vs. Total Value"
   ]
  },
  {
   "cell_type": "markdown",
   "metadata": {},
   "source": [
    "Although the model depicted a positive relationship between length of contract and the total value of a contract, it's not as accurate as I had hoped.\n",
    "\n",
    "A hypothesis that I had was:\n",
    "- If a player wants to get paid more in total, then they should opt for a long term contract.\n",
    "\n",
    "Visually, the chart proved this to be true, although it wasn't very accurate.\n",
    "The MSE score was 165,752,041,371,069.34 and the R2 score was 0.17. These values confirm that the regression line was VERY far from the data points, and the low R2 value let's us know that there was little variance between the two variables."
   ]
  },
  {
   "cell_type": "markdown",
   "metadata": {},
   "source": [
    " "
   ]
  },
  {
   "cell_type": "markdown",
   "metadata": {},
   "source": [
    " "
   ]
  },
  {
   "cell_type": "markdown",
   "metadata": {},
   "source": [
    "# Bonus: Performance Improvement After Making Data Set More Recent (2006 - 2016 only)"
   ]
  },
  {
   "cell_type": "markdown",
   "metadata": {},
   "source": [
    "## Import recent_salaries dataset"
   ]
  },
  {
   "cell_type": "code",
   "execution_count": 102,
   "metadata": {},
   "outputs": [],
   "source": [
    "recent_salaries = pd.read_csv(os.path.join(path, '02 Data', 'Prepared Data', 'recent_salaries.csv'), index_col = False)"
   ]
  },
  {
   "cell_type": "code",
   "execution_count": 103,
   "metadata": {},
   "outputs": [
    {
     "data": {
      "text/html": [
       "<div>\n",
       "<style scoped>\n",
       "    .dataframe tbody tr th:only-of-type {\n",
       "        vertical-align: middle;\n",
       "    }\n",
       "\n",
       "    .dataframe tbody tr th {\n",
       "        vertical-align: top;\n",
       "    }\n",
       "\n",
       "    .dataframe thead th {\n",
       "        text-align: right;\n",
       "    }\n",
       "</style>\n",
       "<table border=\"1\" class=\"dataframe\">\n",
       "  <thead>\n",
       "    <tr style=\"text-align: right;\">\n",
       "      <th></th>\n",
       "      <th>Unnamed: 0</th>\n",
       "      <th>salary</th>\n",
       "      <th>name</th>\n",
       "      <th>total_value</th>\n",
       "      <th>pos</th>\n",
       "      <th>length</th>\n",
       "      <th>years</th>\n",
       "      <th>avg_annual</th>\n",
       "      <th>team</th>\n",
       "      <th>city</th>\n",
       "      <th>state</th>\n",
       "      <th>country</th>\n",
       "    </tr>\n",
       "  </thead>\n",
       "  <tbody>\n",
       "    <tr>\n",
       "      <th>0</th>\n",
       "      <td>0</td>\n",
       "      <td>6500000</td>\n",
       "      <td>Giancarlo Stanton</td>\n",
       "      <td>325000000</td>\n",
       "      <td>RF</td>\n",
       "      <td>13</td>\n",
       "      <td>2015</td>\n",
       "      <td>25000000</td>\n",
       "      <td>MIA</td>\n",
       "      <td>Miami</td>\n",
       "      <td>Florida</td>\n",
       "      <td>USA</td>\n",
       "    </tr>\n",
       "    <tr>\n",
       "      <th>1</th>\n",
       "      <td>1</td>\n",
       "      <td>21943026</td>\n",
       "      <td>Miguel Cabrera</td>\n",
       "      <td>292000000</td>\n",
       "      <td>1B</td>\n",
       "      <td>10</td>\n",
       "      <td>2014</td>\n",
       "      <td>29200000</td>\n",
       "      <td>DET</td>\n",
       "      <td>Detroit</td>\n",
       "      <td>Michigan</td>\n",
       "      <td>USA</td>\n",
       "    </tr>\n",
       "    <tr>\n",
       "      <th>2</th>\n",
       "      <td>2</td>\n",
       "      <td>22000000</td>\n",
       "      <td>Miguel Cabrera</td>\n",
       "      <td>292000000</td>\n",
       "      <td>1B</td>\n",
       "      <td>10</td>\n",
       "      <td>2014</td>\n",
       "      <td>29200000</td>\n",
       "      <td>DET</td>\n",
       "      <td>Detroit</td>\n",
       "      <td>Michigan</td>\n",
       "      <td>USA</td>\n",
       "    </tr>\n",
       "    <tr>\n",
       "      <th>3</th>\n",
       "      <td>3</td>\n",
       "      <td>28000000</td>\n",
       "      <td>Alex Rodriguez</td>\n",
       "      <td>275000000</td>\n",
       "      <td>DH</td>\n",
       "      <td>10</td>\n",
       "      <td>2008</td>\n",
       "      <td>27500000</td>\n",
       "      <td>NYY</td>\n",
       "      <td>Bronx</td>\n",
       "      <td>New York</td>\n",
       "      <td>USA</td>\n",
       "    </tr>\n",
       "    <tr>\n",
       "      <th>4</th>\n",
       "      <td>4</td>\n",
       "      <td>33000000</td>\n",
       "      <td>Alex Rodriguez</td>\n",
       "      <td>275000000</td>\n",
       "      <td>DH</td>\n",
       "      <td>10</td>\n",
       "      <td>2008</td>\n",
       "      <td>27500000</td>\n",
       "      <td>NYY</td>\n",
       "      <td>Bronx</td>\n",
       "      <td>New York</td>\n",
       "      <td>USA</td>\n",
       "    </tr>\n",
       "  </tbody>\n",
       "</table>\n",
       "</div>"
      ],
      "text/plain": [
       "   Unnamed: 0    salary               name  total_value pos  length  years  \\\n",
       "0           0   6500000  Giancarlo Stanton    325000000  RF      13   2015   \n",
       "1           1  21943026     Miguel Cabrera    292000000  1B      10   2014   \n",
       "2           2  22000000     Miguel Cabrera    292000000  1B      10   2014   \n",
       "3           3  28000000     Alex Rodriguez    275000000  DH      10   2008   \n",
       "4           4  33000000     Alex Rodriguez    275000000  DH      10   2008   \n",
       "\n",
       "   avg_annual team     city     state country  \n",
       "0    25000000  MIA    Miami   Florida     USA  \n",
       "1    29200000  DET  Detroit  Michigan     USA  \n",
       "2    29200000  DET  Detroit  Michigan     USA  \n",
       "3    27500000  NYY    Bronx  New York     USA  \n",
       "4    27500000  NYY    Bronx  New York     USA  "
      ]
     },
     "execution_count": 103,
     "metadata": {},
     "output_type": "execute_result"
    }
   ],
   "source": [
    "# Check new data\n",
    "recent_salaries.head()"
   ]
  },
  {
   "cell_type": "code",
   "execution_count": 104,
   "metadata": {},
   "outputs": [],
   "source": [
    "# Remove Unnamed: 0 column\n",
    "recent_salaries = recent_salaries.drop(columns = 'Unnamed: 0')"
   ]
  },
  {
   "cell_type": "markdown",
   "metadata": {},
   "source": [
    "## Exploring Data Visually"
   ]
  },
  {
   "cell_type": "code",
   "execution_count": 107,
   "metadata": {},
   "outputs": [
    {
     "data": {
      "image/png": "[encoded data removed]",
      "text/plain": [
       "<Figure size 432x288 with 1 Axes>"
      ]
     },
     "metadata": {
      "needs_background": "light"
     },
     "output_type": "display_data"
    }
   ],
   "source": [
    "# Create a scatterplot using matplotlib for another look at how the chosen variables plot against each other.\n",
    "\n",
    "recent_salaries.plot(x = 'length', y='total_value',style='o') # The style option creates a scatterplot; without it, we only have lines.\n",
    "plt.title('Length of Contract vs. Total Value')  \n",
    "plt.xlabel('Length of contract')  \n",
    "plt.ylabel('Total Value')  \n",
    "plt.show()"
   ]
  },
  {
   "cell_type": "markdown",
   "metadata": {},
   "source": [
    "### NumPys Array"
   ]
  },
  {
   "cell_type": "code",
   "execution_count": 116,
   "metadata": {},
   "outputs": [],
   "source": [
    "# Reshape the variables into NumPy arrays and put them into separate objects.\n",
    "\n",
    "X3 = recent_salaries['length'].values.reshape(-1,1)\n",
    "y3 = recent_salaries['total_value'].values.reshape(-1,1)"
   ]
  },
  {
   "cell_type": "markdown",
   "metadata": {},
   "source": [
    "### 2 Datasets: training and test"
   ]
  },
  {
   "cell_type": "code",
   "execution_count": 117,
   "metadata": {},
   "outputs": [],
   "source": [
    "# Split data into a training set and a test set.\n",
    "\n",
    "X3_train, X3_test, y3_train, y3_test = train_test_split(X3, y3, test_size=0.3, random_state=0)"
   ]
  },
  {
   "cell_type": "markdown",
   "metadata": {},
   "source": [
    "### Regression Analysis"
   ]
  },
  {
   "cell_type": "code",
   "execution_count": 118,
   "metadata": {},
   "outputs": [],
   "source": [
    "# Create a regression object.\n",
    "\n",
    "regression_3 = LinearRegression()  # This is the regression object, which will be fit onto the training set."
   ]
  },
  {
   "cell_type": "code",
   "execution_count": 119,
   "metadata": {},
   "outputs": [
    {
     "data": {
      "text/plain": [
       "LinearRegression()"
      ]
     },
     "execution_count": 119,
     "metadata": {},
     "output_type": "execute_result"
    }
   ],
   "source": [
    "# Fit the regression object onto the training set.\n",
    "\n",
    "regression_3.fit(X3_train, y3_train)"
   ]
  },
  {
   "cell_type": "code",
   "execution_count": 120,
   "metadata": {},
   "outputs": [],
   "source": [
    "# Predict the values of y1 using X1.\n",
    "\n",
    "y3_predicted = regression.predict(X3_test)"
   ]
  },
  {
   "cell_type": "code",
   "execution_count": 121,
   "metadata": {},
   "outputs": [
    {
     "data": {
      "image/png": "[encoded data removed]",
      "text/plain": [
       "<Figure size 432x288 with 1 Axes>"
      ]
     },
     "metadata": {
      "needs_background": "light"
     },
     "output_type": "display_data"
    }
   ],
   "source": [
    "# Create a plot that shows the regression line from the model on the test set.\n",
    "\n",
    "plot_test = plt\n",
    "plot_test.scatter(X3_test, y3_test, color='gray', s = 15)\n",
    "plot_test.plot(X3_test, y3_predicted, color='red', linewidth =3)\n",
    "plot_test.title('Length of Contract vs. Total Value (Test Set)')\n",
    "plot_test.xlabel('Length')\n",
    "plot_test.ylabel('Total Value')\n",
    "plot_test.show()"
   ]
  },
  {
   "cell_type": "code",
   "execution_count": 122,
   "metadata": {},
   "outputs": [],
   "source": [
    "# Create objects that contain the model summary statistics.\n",
    "\n",
    "rmse_3 = mean_squared_error(y3_test, y3_predicted) # This is the mean squared error\n",
    "r2_3 = r2_score(y3_test, y3_predicted) # This is the R2 score. "
   ]
  },
  {
   "cell_type": "code",
   "execution_count": 123,
   "metadata": {},
   "outputs": [
    {
     "name": "stdout",
     "output_type": "stream",
     "text": [
      "Slope: [[16192859.92086524]]\n",
      "Mean squared error:  504959134236189.3\n",
      "R2 score:  0.13865529453744796\n"
     ]
    }
   ],
   "source": [
    "# Print the model summary statistics. This is where you evaluate the performance of the model.\n",
    "\n",
    "print('Slope:' ,regression_3.coef_)\n",
    "print('Mean squared error: ', rmse_3)\n",
    "print('R2 score: ', r2_3)"
   ]
  },
  {
   "cell_type": "markdown",
   "metadata": {},
   "source": [
    "## Results:\n",
    "Same results, however, the MSE is much higher and the R2 is a bit lower. Changing data to only have the most recent (from 2006 - 2016) didn't make that much of a difference."
   ]
  },
  {
   "cell_type": "markdown",
   "metadata": {},
   "source": [
    "# Exporting Datasets"
   ]
  },
  {
   "cell_type": "code",
   "execution_count": 124,
   "metadata": {},
   "outputs": [],
   "source": [
    "df.to_csv(os.path.join(path, '02 Data', 'Prepared Data', 'salaries_Task64.csv'))"
   ]
  },
  {
   "cell_type": "markdown",
   "metadata": {},
   "source": [
    " "
   ]
  }
 ],
 "metadata": {
  "kernelspec": {
   "display_name": "Python 3",
   "language": "python",
   "name": "python3"
  },
  "language_info": {
   "codemirror_mode": {
    "name": "ipython",
    "version": 3
   },
   "file_extension": ".py",
   "mimetype": "text/x-python",
   "name": "python",
   "nbconvert_exporter": "python",
   "pygments_lexer": "ipython3",
   "version": "3.8.5"
  }
 },
 "nbformat": 4,
 "nbformat_minor": 4
}
