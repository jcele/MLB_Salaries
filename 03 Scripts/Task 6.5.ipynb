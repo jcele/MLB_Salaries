{
 "cells": [
  {
   "cell_type": "markdown",
   "metadata": {},
   "source": [
    "# 1) Importing Libraries"
   ]
  },
  {
   "cell_type": "code",
   "execution_count": 135,
   "metadata": {},
   "outputs": [],
   "source": [
    "import pandas as pd\n",
    "import numpy as np\n",
    "import seaborn as sns\n",
    "import matplotlib\n",
    "import matplotlib.pyplot as plt\n",
    "import os\n",
    "import sklearn\n",
    "from sklearn.preprocessing import StandardScaler\n",
    "from sklearn.cluster import KMeans # Here is where you import the k-means algorithm from scikit-learn.\n",
    "import pylab as pl # PyLab is a convenience module that bulk imports matplotlib."
   ]
  },
  {
   "cell_type": "code",
   "execution_count": 136,
   "metadata": {},
   "outputs": [],
   "source": [
    "# This option ensures the graphs you create are displayed in your notebook without the need to \"call\" them specifically.\n",
    "\n",
    "%matplotlib inline"
   ]
  },
  {
   "cell_type": "markdown",
   "metadata": {},
   "source": [
    "# 2) Importing Data"
   ]
  },
  {
   "cell_type": "code",
   "execution_count": 137,
   "metadata": {},
   "outputs": [],
   "source": [
    "# Creating path variable\n",
    "path = r'C:\\Users\\Aaron\\CareerFoundry\\Achievement 6'"
   ]
  },
  {
   "cell_type": "code",
   "execution_count": 138,
   "metadata": {},
   "outputs": [],
   "source": [
    "# Importing MLB Salaries dataset\n",
    "df = pd.read_csv(os.path.join(path, '02 Data', 'Prepared Data', 'salaries_Task64.csv'), index_col = False)"
   ]
  },
  {
   "cell_type": "code",
   "execution_count": 139,
   "metadata": {},
   "outputs": [
    {
     "data": {
      "text/html": [
       "<div>\n",
       "<style scoped>\n",
       "    .dataframe tbody tr th:only-of-type {\n",
       "        vertical-align: middle;\n",
       "    }\n",
       "\n",
       "    .dataframe tbody tr th {\n",
       "        vertical-align: top;\n",
       "    }\n",
       "\n",
       "    .dataframe thead th {\n",
       "        text-align: right;\n",
       "    }\n",
       "</style>\n",
       "<table border=\"1\" class=\"dataframe\">\n",
       "  <thead>\n",
       "    <tr style=\"text-align: right;\">\n",
       "      <th></th>\n",
       "      <th>Unnamed: 0</th>\n",
       "      <th>salary</th>\n",
       "      <th>name</th>\n",
       "      <th>total_value</th>\n",
       "      <th>pos</th>\n",
       "      <th>length</th>\n",
       "      <th>year_start</th>\n",
       "      <th>avg_annual</th>\n",
       "      <th>team</th>\n",
       "      <th>city</th>\n",
       "      <th>state</th>\n",
       "      <th>country</th>\n",
       "    </tr>\n",
       "  </thead>\n",
       "  <tbody>\n",
       "    <tr>\n",
       "      <th>0</th>\n",
       "      <td>0</td>\n",
       "      <td>6500000</td>\n",
       "      <td>Giancarlo Stanton</td>\n",
       "      <td>325000000</td>\n",
       "      <td>RF</td>\n",
       "      <td>13</td>\n",
       "      <td>2015</td>\n",
       "      <td>25000000</td>\n",
       "      <td>MIA</td>\n",
       "      <td>Miami</td>\n",
       "      <td>Florida</td>\n",
       "      <td>USA</td>\n",
       "    </tr>\n",
       "    <tr>\n",
       "      <th>1</th>\n",
       "      <td>1</td>\n",
       "      <td>21943026</td>\n",
       "      <td>Miguel Cabrera</td>\n",
       "      <td>292000000</td>\n",
       "      <td>1B</td>\n",
       "      <td>10</td>\n",
       "      <td>2014</td>\n",
       "      <td>29200000</td>\n",
       "      <td>DET</td>\n",
       "      <td>Detroit</td>\n",
       "      <td>Michigan</td>\n",
       "      <td>USA</td>\n",
       "    </tr>\n",
       "    <tr>\n",
       "      <th>2</th>\n",
       "      <td>2</td>\n",
       "      <td>22000000</td>\n",
       "      <td>Miguel Cabrera</td>\n",
       "      <td>292000000</td>\n",
       "      <td>1B</td>\n",
       "      <td>10</td>\n",
       "      <td>2014</td>\n",
       "      <td>29200000</td>\n",
       "      <td>DET</td>\n",
       "      <td>Detroit</td>\n",
       "      <td>Michigan</td>\n",
       "      <td>USA</td>\n",
       "    </tr>\n",
       "    <tr>\n",
       "      <th>3</th>\n",
       "      <td>3</td>\n",
       "      <td>28000000</td>\n",
       "      <td>Alex Rodriguez</td>\n",
       "      <td>275000000</td>\n",
       "      <td>DH</td>\n",
       "      <td>10</td>\n",
       "      <td>2008</td>\n",
       "      <td>27500000</td>\n",
       "      <td>NYY</td>\n",
       "      <td>Bronx</td>\n",
       "      <td>New York</td>\n",
       "      <td>USA</td>\n",
       "    </tr>\n",
       "    <tr>\n",
       "      <th>4</th>\n",
       "      <td>4</td>\n",
       "      <td>33000000</td>\n",
       "      <td>Alex Rodriguez</td>\n",
       "      <td>275000000</td>\n",
       "      <td>DH</td>\n",
       "      <td>10</td>\n",
       "      <td>2008</td>\n",
       "      <td>27500000</td>\n",
       "      <td>NYY</td>\n",
       "      <td>Bronx</td>\n",
       "      <td>New York</td>\n",
       "      <td>USA</td>\n",
       "    </tr>\n",
       "  </tbody>\n",
       "</table>\n",
       "</div>"
      ],
      "text/plain": [
       "   Unnamed: 0    salary               name  total_value pos  length  \\\n",
       "0           0   6500000  Giancarlo Stanton    325000000  RF      13   \n",
       "1           1  21943026     Miguel Cabrera    292000000  1B      10   \n",
       "2           2  22000000     Miguel Cabrera    292000000  1B      10   \n",
       "3           3  28000000     Alex Rodriguez    275000000  DH      10   \n",
       "4           4  33000000     Alex Rodriguez    275000000  DH      10   \n",
       "\n",
       "   year_start  avg_annual team     city     state country  \n",
       "0        2015    25000000  MIA    Miami   Florida     USA  \n",
       "1        2014    29200000  DET  Detroit  Michigan     USA  \n",
       "2        2014    29200000  DET  Detroit  Michigan     USA  \n",
       "3        2008    27500000  NYY    Bronx  New York     USA  \n",
       "4        2008    27500000  NYY    Bronx  New York     USA  "
      ]
     },
     "execution_count": 139,
     "metadata": {},
     "output_type": "execute_result"
    }
   ],
   "source": [
    "# Checking our data\n",
    "df.head()"
   ]
  },
  {
   "cell_type": "markdown",
   "metadata": {},
   "source": [
    "## Removing Columns"
   ]
  },
  {
   "cell_type": "code",
   "execution_count": 140,
   "metadata": {},
   "outputs": [],
   "source": [
    "columns_to_drop = ['Unnamed: 0', 'name', 'pos', 'year_start', 'team', 'city', 'state', 'country']"
   ]
  },
  {
   "cell_type": "code",
   "execution_count": 141,
   "metadata": {},
   "outputs": [],
   "source": [
    "df = df.drop(columns = columns_to_drop)"
   ]
  },
  {
   "cell_type": "code",
   "execution_count": 142,
   "metadata": {},
   "outputs": [
    {
     "data": {
      "text/html": [
       "<div>\n",
       "<style scoped>\n",
       "    .dataframe tbody tr th:only-of-type {\n",
       "        vertical-align: middle;\n",
       "    }\n",
       "\n",
       "    .dataframe tbody tr th {\n",
       "        vertical-align: top;\n",
       "    }\n",
       "\n",
       "    .dataframe thead th {\n",
       "        text-align: right;\n",
       "    }\n",
       "</style>\n",
       "<table border=\"1\" class=\"dataframe\">\n",
       "  <thead>\n",
       "    <tr style=\"text-align: right;\">\n",
       "      <th></th>\n",
       "      <th>salary</th>\n",
       "      <th>total_value</th>\n",
       "      <th>length</th>\n",
       "      <th>avg_annual</th>\n",
       "    </tr>\n",
       "  </thead>\n",
       "  <tbody>\n",
       "    <tr>\n",
       "      <th>0</th>\n",
       "      <td>6500000</td>\n",
       "      <td>325000000</td>\n",
       "      <td>13</td>\n",
       "      <td>25000000</td>\n",
       "    </tr>\n",
       "    <tr>\n",
       "      <th>1</th>\n",
       "      <td>21943026</td>\n",
       "      <td>292000000</td>\n",
       "      <td>10</td>\n",
       "      <td>29200000</td>\n",
       "    </tr>\n",
       "    <tr>\n",
       "      <th>2</th>\n",
       "      <td>22000000</td>\n",
       "      <td>292000000</td>\n",
       "      <td>10</td>\n",
       "      <td>29200000</td>\n",
       "    </tr>\n",
       "    <tr>\n",
       "      <th>3</th>\n",
       "      <td>28000000</td>\n",
       "      <td>275000000</td>\n",
       "      <td>10</td>\n",
       "      <td>27500000</td>\n",
       "    </tr>\n",
       "    <tr>\n",
       "      <th>4</th>\n",
       "      <td>33000000</td>\n",
       "      <td>275000000</td>\n",
       "      <td>10</td>\n",
       "      <td>27500000</td>\n",
       "    </tr>\n",
       "  </tbody>\n",
       "</table>\n",
       "</div>"
      ],
      "text/plain": [
       "     salary  total_value  length  avg_annual\n",
       "0   6500000    325000000      13    25000000\n",
       "1  21943026    292000000      10    29200000\n",
       "2  22000000    292000000      10    29200000\n",
       "3  28000000    275000000      10    27500000\n",
       "4  33000000    275000000      10    27500000"
      ]
     },
     "execution_count": 142,
     "metadata": {},
     "output_type": "execute_result"
    }
   ],
   "source": [
    "# Checking new data\n",
    "df.head()"
   ]
  },
  {
   "cell_type": "markdown",
   "metadata": {},
   "source": [
    "## Standardizing Data via Standard Scaler"
   ]
  },
  {
   "cell_type": "code",
   "execution_count": 143,
   "metadata": {},
   "outputs": [],
   "source": [
    "# Define Standard Scaler\n",
    "scaler = StandardScaler()"
   ]
  },
  {
   "cell_type": "code",
   "execution_count": 144,
   "metadata": {},
   "outputs": [],
   "source": [
    "# Transform the data\n",
    "df_array = scaler.fit_transform(df)"
   ]
  },
  {
   "cell_type": "code",
   "execution_count": 145,
   "metadata": {},
   "outputs": [
    {
     "data": {
      "text/plain": [
       "array([[ 1.29677654, 22.57766209, 15.80207575,  6.5997913 ],\n",
       "       [ 5.90290822, 20.25869713, 11.80967811,  7.81527472],\n",
       "       [ 5.91990163, 20.25869713, 11.80967811,  7.81527472],\n",
       "       ...,\n",
       "       [-0.62331171, -0.25623714, -0.16751483, -0.61714156],\n",
       "       [-0.62331171, -0.25623714, -0.16751483, -0.61714156],\n",
       "       [-0.62331171, -0.25623714, -0.16751483, -0.61714156]])"
      ]
     },
     "execution_count": 145,
     "metadata": {},
     "output_type": "execute_result"
    }
   ],
   "source": [
    "# Check data\n",
    "df_array"
   ]
  },
  {
   "cell_type": "markdown",
   "metadata": {},
   "source": [
    "## Turning Array into DataFrame"
   ]
  },
  {
   "cell_type": "code",
   "execution_count": 146,
   "metadata": {},
   "outputs": [],
   "source": [
    "# Renaming columns to original names\n",
    "column_names = ['salary', 'total_value', 'length', 'avg_annual']"
   ]
  },
  {
   "cell_type": "code",
   "execution_count": 147,
   "metadata": {},
   "outputs": [],
   "source": [
    "df = pd.DataFrame(df_array, columns = column_names)"
   ]
  },
  {
   "cell_type": "code",
   "execution_count": 148,
   "metadata": {
    "scrolled": true
   },
   "outputs": [
    {
     "data": {
      "text/html": [
       "<div>\n",
       "<style scoped>\n",
       "    .dataframe tbody tr th:only-of-type {\n",
       "        vertical-align: middle;\n",
       "    }\n",
       "\n",
       "    .dataframe tbody tr th {\n",
       "        vertical-align: top;\n",
       "    }\n",
       "\n",
       "    .dataframe thead th {\n",
       "        text-align: right;\n",
       "    }\n",
       "</style>\n",
       "<table border=\"1\" class=\"dataframe\">\n",
       "  <thead>\n",
       "    <tr style=\"text-align: right;\">\n",
       "      <th></th>\n",
       "      <th>salary</th>\n",
       "      <th>total_value</th>\n",
       "      <th>length</th>\n",
       "      <th>avg_annual</th>\n",
       "    </tr>\n",
       "  </thead>\n",
       "  <tbody>\n",
       "    <tr>\n",
       "      <th>0</th>\n",
       "      <td>1.296777</td>\n",
       "      <td>22.577662</td>\n",
       "      <td>15.802076</td>\n",
       "      <td>6.599791</td>\n",
       "    </tr>\n",
       "    <tr>\n",
       "      <th>1</th>\n",
       "      <td>5.902908</td>\n",
       "      <td>20.258697</td>\n",
       "      <td>11.809678</td>\n",
       "      <td>7.815275</td>\n",
       "    </tr>\n",
       "    <tr>\n",
       "      <th>2</th>\n",
       "      <td>5.919902</td>\n",
       "      <td>20.258697</td>\n",
       "      <td>11.809678</td>\n",
       "      <td>7.815275</td>\n",
       "    </tr>\n",
       "    <tr>\n",
       "      <th>3</th>\n",
       "      <td>7.709498</td>\n",
       "      <td>19.064079</td>\n",
       "      <td>11.809678</td>\n",
       "      <td>7.323293</td>\n",
       "    </tr>\n",
       "    <tr>\n",
       "      <th>4</th>\n",
       "      <td>9.200829</td>\n",
       "      <td>19.064079</td>\n",
       "      <td>11.809678</td>\n",
       "      <td>7.323293</td>\n",
       "    </tr>\n",
       "    <tr>\n",
       "      <th>...</th>\n",
       "      <td>...</td>\n",
       "      <td>...</td>\n",
       "      <td>...</td>\n",
       "      <td>...</td>\n",
       "    </tr>\n",
       "    <tr>\n",
       "      <th>22700</th>\n",
       "      <td>-0.623312</td>\n",
       "      <td>-0.256237</td>\n",
       "      <td>-0.167515</td>\n",
       "      <td>-0.617142</td>\n",
       "    </tr>\n",
       "    <tr>\n",
       "      <th>22701</th>\n",
       "      <td>-0.623312</td>\n",
       "      <td>-0.256237</td>\n",
       "      <td>-0.167515</td>\n",
       "      <td>-0.617142</td>\n",
       "    </tr>\n",
       "    <tr>\n",
       "      <th>22702</th>\n",
       "      <td>-0.623312</td>\n",
       "      <td>-0.256237</td>\n",
       "      <td>-0.167515</td>\n",
       "      <td>-0.617142</td>\n",
       "    </tr>\n",
       "    <tr>\n",
       "      <th>22703</th>\n",
       "      <td>-0.623312</td>\n",
       "      <td>-0.256237</td>\n",
       "      <td>-0.167515</td>\n",
       "      <td>-0.617142</td>\n",
       "    </tr>\n",
       "    <tr>\n",
       "      <th>22704</th>\n",
       "      <td>-0.623312</td>\n",
       "      <td>-0.256237</td>\n",
       "      <td>-0.167515</td>\n",
       "      <td>-0.617142</td>\n",
       "    </tr>\n",
       "  </tbody>\n",
       "</table>\n",
       "<p>22705 rows × 4 columns</p>\n",
       "</div>"
      ],
      "text/plain": [
       "         salary  total_value     length  avg_annual\n",
       "0      1.296777    22.577662  15.802076    6.599791\n",
       "1      5.902908    20.258697  11.809678    7.815275\n",
       "2      5.919902    20.258697  11.809678    7.815275\n",
       "3      7.709498    19.064079  11.809678    7.323293\n",
       "4      9.200829    19.064079  11.809678    7.323293\n",
       "...         ...          ...        ...         ...\n",
       "22700 -0.623312    -0.256237  -0.167515   -0.617142\n",
       "22701 -0.623312    -0.256237  -0.167515   -0.617142\n",
       "22702 -0.623312    -0.256237  -0.167515   -0.617142\n",
       "22703 -0.623312    -0.256237  -0.167515   -0.617142\n",
       "22704 -0.623312    -0.256237  -0.167515   -0.617142\n",
       "\n",
       "[22705 rows x 4 columns]"
      ]
     },
     "execution_count": 148,
     "metadata": {},
     "output_type": "execute_result"
    }
   ],
   "source": [
    "# Checking data\n",
    "df"
   ]
  },
  {
   "cell_type": "markdown",
   "metadata": {},
   "source": [
    "# 3) Elbow Technique"
   ]
  },
  {
   "cell_type": "code",
   "execution_count": 149,
   "metadata": {},
   "outputs": [],
   "source": [
    "num_cl = range(1, 10) # Defines the range of potential clusters in the data.\n",
    "kmeans = [KMeans(n_clusters=i) for i in num_cl] # Defines k-means clusters in the range assigned above."
   ]
  },
  {
   "cell_type": "code",
   "execution_count": 150,
   "metadata": {},
   "outputs": [
    {
     "data": {
      "text/plain": [
       "[-90820.00000001104,\n",
       " -49767.11411690157,\n",
       " -26012.44019395976,\n",
       " -18143.109228672765,\n",
       " -12348.17050038336,\n",
       " -10242.522252897263,\n",
       " -8404.837334993925,\n",
       " -7053.417158650289,\n",
       " -6213.880875022175]"
      ]
     },
     "execution_count": 150,
     "metadata": {},
     "output_type": "execute_result"
    }
   ],
   "source": [
    "score = [kmeans[i].fit(df).score(df) for i in range(len(kmeans))] # Creates a score that represents \n",
    "# a rate of variation for the given cluster option.\n",
    "\n",
    "score"
   ]
  },
  {
   "cell_type": "code",
   "execution_count": 151,
   "metadata": {},
   "outputs": [
    {
     "data": {
      "image/png": "[encoded data removed]",
      "text/plain": [
       "<Figure size 432x288 with 1 Axes>"
      ]
     },
     "metadata": {
      "needs_background": "light"
     },
     "output_type": "display_data"
    }
   ],
   "source": [
    "# Plot the elbow curve using PyLab.\n",
    "\n",
    "pl.plot(num_cl,score)\n",
    "pl.xlabel('Number of Clusters')\n",
    "pl.ylabel('Score')\n",
    "pl.title('Elbow Curve')\n",
    "pl.show()"
   ]
  },
  {
   "cell_type": "markdown",
   "metadata": {},
   "source": [
    "# 4) Decide the Number of Clusters"
   ]
  },
  {
   "cell_type": "markdown",
   "metadata": {},
   "source": [
    "#### There's a large jump from 2 to 3 on the x-axis, but after that, the curve straightens out. This means our optimal count of clusters is 3."
   ]
  },
  {
   "cell_type": "markdown",
   "metadata": {},
   "source": [
    "# 5) k-means algorithm"
   ]
  },
  {
   "cell_type": "code",
   "execution_count": 152,
   "metadata": {},
   "outputs": [],
   "source": [
    "# Create the k-means object.\n",
    "\n",
    "kmeans = KMeans(n_clusters = 3)\n"
   ]
  },
  {
   "cell_type": "code",
   "execution_count": 153,
   "metadata": {},
   "outputs": [
    {
     "data": {
      "text/plain": [
       "KMeans(n_clusters=3)"
      ]
     },
     "execution_count": 153,
     "metadata": {},
     "output_type": "execute_result"
    }
   ],
   "source": [
    "# Fit the k-means object to the data.\n",
    "\n",
    "kmeans.fit(df)"
   ]
  },
  {
   "cell_type": "markdown",
   "metadata": {},
   "source": [
    "# 6) New Column for Clusters"
   ]
  },
  {
   "cell_type": "code",
   "execution_count": 157,
   "metadata": {},
   "outputs": [],
   "source": [
    "df['clusters'] = kmeans.fit_predict(df)"
   ]
  },
  {
   "cell_type": "code",
   "execution_count": 158,
   "metadata": {},
   "outputs": [
    {
     "data": {
      "text/html": [
       "<div>\n",
       "<style scoped>\n",
       "    .dataframe tbody tr th:only-of-type {\n",
       "        vertical-align: middle;\n",
       "    }\n",
       "\n",
       "    .dataframe tbody tr th {\n",
       "        vertical-align: top;\n",
       "    }\n",
       "\n",
       "    .dataframe thead th {\n",
       "        text-align: right;\n",
       "    }\n",
       "</style>\n",
       "<table border=\"1\" class=\"dataframe\">\n",
       "  <thead>\n",
       "    <tr style=\"text-align: right;\">\n",
       "      <th></th>\n",
       "      <th>salary</th>\n",
       "      <th>total_value</th>\n",
       "      <th>length</th>\n",
       "      <th>avg_annual</th>\n",
       "      <th>clusters</th>\n",
       "    </tr>\n",
       "  </thead>\n",
       "  <tbody>\n",
       "    <tr>\n",
       "      <th>0</th>\n",
       "      <td>1.296777</td>\n",
       "      <td>22.577662</td>\n",
       "      <td>15.802076</td>\n",
       "      <td>6.599791</td>\n",
       "      <td>2</td>\n",
       "    </tr>\n",
       "    <tr>\n",
       "      <th>1</th>\n",
       "      <td>5.902908</td>\n",
       "      <td>20.258697</td>\n",
       "      <td>11.809678</td>\n",
       "      <td>7.815275</td>\n",
       "      <td>2</td>\n",
       "    </tr>\n",
       "    <tr>\n",
       "      <th>2</th>\n",
       "      <td>5.919902</td>\n",
       "      <td>20.258697</td>\n",
       "      <td>11.809678</td>\n",
       "      <td>7.815275</td>\n",
       "      <td>2</td>\n",
       "    </tr>\n",
       "    <tr>\n",
       "      <th>3</th>\n",
       "      <td>7.709498</td>\n",
       "      <td>19.064079</td>\n",
       "      <td>11.809678</td>\n",
       "      <td>7.323293</td>\n",
       "      <td>2</td>\n",
       "    </tr>\n",
       "    <tr>\n",
       "      <th>4</th>\n",
       "      <td>9.200829</td>\n",
       "      <td>19.064079</td>\n",
       "      <td>11.809678</td>\n",
       "      <td>7.323293</td>\n",
       "      <td>2</td>\n",
       "    </tr>\n",
       "  </tbody>\n",
       "</table>\n",
       "</div>"
      ],
      "text/plain": [
       "     salary  total_value     length  avg_annual  clusters\n",
       "0  1.296777    22.577662  15.802076    6.599791         2\n",
       "1  5.902908    20.258697  11.809678    7.815275         2\n",
       "2  5.919902    20.258697  11.809678    7.815275         2\n",
       "3  7.709498    19.064079  11.809678    7.323293         2\n",
       "4  9.200829    19.064079  11.809678    7.323293         2"
      ]
     },
     "execution_count": 158,
     "metadata": {},
     "output_type": "execute_result"
    }
   ],
   "source": [
    "df.head()"
   ]
  },
  {
   "cell_type": "code",
   "execution_count": 159,
   "metadata": {},
   "outputs": [
    {
     "data": {
      "text/plain": [
       "0    19521\n",
       "1     2891\n",
       "2      293\n",
       "Name: clusters, dtype: int64"
      ]
     },
     "execution_count": 159,
     "metadata": {},
     "output_type": "execute_result"
    }
   ],
   "source": [
    "df['clusters'].value_counts()"
   ]
  },
  {
   "cell_type": "markdown",
   "metadata": {},
   "source": [
    "# 7) Scatterplots with Clustered Data"
   ]
  },
  {
   "cell_type": "markdown",
   "metadata": {},
   "source": [
    "### Length vs. Avg_Annual"
   ]
  },
  {
   "cell_type": "code",
   "execution_count": 160,
   "metadata": {},
   "outputs": [
    {
     "data": {
      "image/png": "[encoded data removed]",
      "text/plain": [
       "<Figure size 864x576 with 1 Axes>"
      ]
     },
     "metadata": {
      "needs_background": "light"
     },
     "output_type": "display_data"
    }
   ],
   "source": [
    "# Plot the clusters\n",
    "\n",
    "plt.figure(figsize=(12,8))\n",
    "ax = sns.scatterplot(x=df['length'], y=df['avg_annual'], hue=kmeans.labels_, s=100) \n",
    "# Here, you're subsetting `X` for the x and y arguments to avoid using their labels. \n",
    "# `hue` takes the value of the attribute `kmeans.labels_`, which is the result of running the k-means algorithm.\n",
    "# `s` represents the size of the points you want to see in the plot.\n",
    "\n",
    "ax.grid(False) # This removes the grid from the background.\n",
    "plt.xlabel('length') # Label x-axis.\n",
    "plt.ylabel('avg_annual') # Label y-axis.\n",
    "plt.show()"
   ]
  },
  {
   "cell_type": "markdown",
   "metadata": {},
   "source": [
    "### Length vs. Total Value"
   ]
  },
  {
   "cell_type": "code",
   "execution_count": 161,
   "metadata": {
    "scrolled": false
   },
   "outputs": [
    {
     "data": {
      "image/png": "[encoded data removed]",
      "text/plain": [
       "<Figure size 864x576 with 1 Axes>"
      ]
     },
     "metadata": {
      "needs_background": "light"
     },
     "output_type": "display_data"
    }
   ],
   "source": [
    "# Plot the clusters\n",
    "\n",
    "plt.figure(figsize=(12,8))\n",
    "ax = sns.scatterplot(x=df['length'], y=df['total_value'], hue=kmeans.labels_, s=100) \n",
    "# Here, you're subsetting `X` for the x and y arguments to avoid using their labels. \n",
    "# `hue` takes the value of the attribute `kmeans.labels_`, which is the result of running the k-means algorithm.\n",
    "# `s` represents the size of the points you want to see in the plot.\n",
    "\n",
    "ax.grid(False) # This removes the grid from the background.\n",
    "plt.xlabel('length') # Label x-axis.\n",
    "plt.ylabel('total_value') # Label y-axis.\n",
    "plt.show()"
   ]
  },
  {
   "cell_type": "markdown",
   "metadata": {},
   "source": [
    "# 8) Discuss Clusters"
   ]
  },
  {
   "cell_type": "markdown",
   "metadata": {},
   "source": [
    "#### Length vs. Avg Annual\n",
    "\n",
    "\n",
    "We can seee three clusters, with two of them being very close to one another. Cluster 0 (pink) and cluster 1 (purple) takes up the left portion of the chart. This could mean that players who opt for shorter contracts typically make more money on average every year.\n",
    "\n",
    "As the contracts get longer, it seems to be more spread out. Some of the longest contracts aren't even the highest annual averages. And there are also some, namely the outlier on the top of the chart, that get paid the highest annual average, while also having the shortest contract within that cluster."
   ]
  },
  {
   "cell_type": "markdown",
   "metadata": {},
   "source": [
    "#### Length vs. Total Value\n",
    "\n",
    "We can see that cluster 0 (pink) and cluster 1 (purple) take up the bottom left portions of the chart again. This time, however, it looks like there is a correlation between how much the total value of a contract is, and the length of the contract.\n",
    "\n",
    "Short term contracts, such as those in cluster 0 and 1, in total value make less than those within cluster 2.\n",
    "\n",
    "As contracts in cluster 0 and 1 get longer, we start to see those contracts' total value begin to decrease\n",
    "\n",
    "Additionally, as the length of contracts get longer, we start to see a mixture of cluster 2's contracts begin to increase, as well as decrease, until we hit above length 11 where all the data have relatively high total values."
   ]
  },
  {
   "cell_type": "markdown",
   "metadata": {},
   "source": [
    "# 9) Descriptive Statistics"
   ]
  },
  {
   "cell_type": "code",
   "execution_count": 162,
   "metadata": {},
   "outputs": [],
   "source": [
    "df.loc[df['clusters'] == 2, 'cluster'] = 'dark purple'\n",
    "df.loc[df['clusters'] == 1, 'cluster'] = 'purple'\n",
    "df.loc[df['clusters'] == 0, 'cluster'] = 'pink'"
   ]
  },
  {
   "cell_type": "code",
   "execution_count": 163,
   "metadata": {
    "scrolled": true
   },
   "outputs": [
    {
     "data": {
      "text/html": [
       "<div>\n",
       "<style scoped>\n",
       "    .dataframe tbody tr th:only-of-type {\n",
       "        vertical-align: middle;\n",
       "    }\n",
       "\n",
       "    .dataframe tbody tr th {\n",
       "        vertical-align: top;\n",
       "    }\n",
       "\n",
       "    .dataframe thead tr th {\n",
       "        text-align: left;\n",
       "    }\n",
       "\n",
       "    .dataframe thead tr:last-of-type th {\n",
       "        text-align: right;\n",
       "    }\n",
       "</style>\n",
       "<table border=\"1\" class=\"dataframe\">\n",
       "  <thead>\n",
       "    <tr>\n",
       "      <th></th>\n",
       "      <th colspan=\"2\" halign=\"left\">salary</th>\n",
       "      <th colspan=\"2\" halign=\"left\">total_value</th>\n",
       "      <th colspan=\"2\" halign=\"left\">length</th>\n",
       "      <th colspan=\"2\" halign=\"left\">avg_annual</th>\n",
       "    </tr>\n",
       "    <tr>\n",
       "      <th></th>\n",
       "      <th>mean</th>\n",
       "      <th>median</th>\n",
       "      <th>mean</th>\n",
       "      <th>median</th>\n",
       "      <th>mean</th>\n",
       "      <th>median</th>\n",
       "      <th>mean</th>\n",
       "      <th>median</th>\n",
       "    </tr>\n",
       "    <tr>\n",
       "      <th>cluster</th>\n",
       "      <th></th>\n",
       "      <th></th>\n",
       "      <th></th>\n",
       "      <th></th>\n",
       "      <th></th>\n",
       "      <th></th>\n",
       "      <th></th>\n",
       "      <th></th>\n",
       "    </tr>\n",
       "  </thead>\n",
       "  <tbody>\n",
       "    <tr>\n",
       "      <th>dark purple</th>\n",
       "      <td>3.466825</td>\n",
       "      <td>3.533773</td>\n",
       "      <td>7.223525</td>\n",
       "      <td>5.712462</td>\n",
       "      <td>7.163236</td>\n",
       "      <td>6.486481</td>\n",
       "      <td>4.002840</td>\n",
       "      <td>3.995184</td>\n",
       "    </tr>\n",
       "    <tr>\n",
       "      <th>pink</th>\n",
       "      <td>-0.330470</td>\n",
       "      <td>-0.492820</td>\n",
       "      <td>-0.183977</td>\n",
       "      <td>-0.225493</td>\n",
       "      <td>-0.146449</td>\n",
       "      <td>-0.167515</td>\n",
       "      <td>-0.331860</td>\n",
       "      <td>-0.490529</td>\n",
       "    </tr>\n",
       "    <tr>\n",
       "      <th>purple</th>\n",
       "      <td>1.880087</td>\n",
       "      <td>1.588472</td>\n",
       "      <td>0.510180</td>\n",
       "      <td>0.308571</td>\n",
       "      <td>0.262889</td>\n",
       "      <td>-0.167515</td>\n",
       "      <td>1.835149</td>\n",
       "      <td>1.535277</td>\n",
       "    </tr>\n",
       "  </tbody>\n",
       "</table>\n",
       "</div>"
      ],
      "text/plain": [
       "               salary           total_value              length            \\\n",
       "                 mean    median        mean    median      mean    median   \n",
       "cluster                                                                     \n",
       "dark purple  3.466825  3.533773    7.223525  5.712462  7.163236  6.486481   \n",
       "pink        -0.330470 -0.492820   -0.183977 -0.225493 -0.146449 -0.167515   \n",
       "purple       1.880087  1.588472    0.510180  0.308571  0.262889 -0.167515   \n",
       "\n",
       "            avg_annual            \n",
       "                  mean    median  \n",
       "cluster                           \n",
       "dark purple   4.002840  3.995184  \n",
       "pink         -0.331860 -0.490529  \n",
       "purple        1.835149  1.535277  "
      ]
     },
     "execution_count": 163,
     "metadata": {},
     "output_type": "execute_result"
    }
   ],
   "source": [
    "df.groupby('cluster').agg({'salary':['mean', 'median'], \n",
    "                         'total_value':['mean', 'median'], \n",
    "                         'length':['mean', 'median'],\n",
    "                          'avg_annual':['mean', 'median']})"
   ]
  },
  {
   "cell_type": "markdown",
   "metadata": {},
   "source": [
    "We can see that dark purple has the highest salary, total values, and average annuals, while also having the longest contracts.\n",
    "\n",
    "Those with the shortest contracts (pink), make less overall, and surpisingly to me, also make the least on annual averages.\n",
    "\n",
    "Puprple has middle ground for all variables, except for length of contract where they both have short/medium term contracts."
   ]
  },
  {
   "cell_type": "markdown",
   "metadata": {},
   "source": [
    "# 10) Propose what these results could be useful for"
   ]
  },
  {
   "cell_type": "markdown",
   "metadata": {},
   "source": [
    "These results would be very helpful for MLB teams, players, and agents when it comes to negotiating contracts. Understanding the breakdown of previous contracts allows everyone to compare and make better informed decisions.\n",
    "\n",
    "We learned that there is a sweet spot for short/medium length contracts where they get paid the most (in total value of the contract), and why that same spot isn't ideal for long term contracts.\n",
    "\n",
    "We also learned that when seeking to make the most on average annually, a player is better off with a short term contracts."
   ]
  },
  {
   "cell_type": "code",
   "execution_count": null,
   "metadata": {},
   "outputs": [],
   "source": []
  }
 ],
 "metadata": {
  "kernelspec": {
   "display_name": "Python 3",
   "language": "python",
   "name": "python3"
  },
  "language_info": {
   "codemirror_mode": {
    "name": "ipython",
    "version": 3
   },
   "file_extension": ".py",
   "mimetype": "text/x-python",
   "name": "python",
   "nbconvert_exporter": "python",
   "pygments_lexer": "ipython3",
   "version": "3.8.5"
  }
 },
 "nbformat": 4,
 "nbformat_minor": 4
}
